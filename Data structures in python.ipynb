{
 "cells": [
  {
   "cell_type": "markdown",
   "metadata": {},
   "source": [
    "# Singly Linked List\n",
    "\n",
    "Singly Linked List consists of nodes, and each node consists of data and address of next node. In this program let's look into basic algorithm on linked lists, that is adding an element in beggining and in the ending, remove a particular element by value and printing the linked list"
   ]
  },
  {
   "cell_type": "markdown",
   "metadata": {},
   "source": [
    "The class Node below consists of data and nextnode. The value of nextnode is set to None by default since we will only have data in it when we initialize a node, and it will be an independent node.\n",
    "\n",
    "To remove an element in Linked List we need to use the node class, as the address of previous and next nodes are traced by nodes itself. If the removing data is present in the very first node then it is deleted in the O(1) time complexity, other we have to traverse through all the nodes to find the element and delete it"
   ]
  },
  {
   "cell_type": "code",
   "execution_count": 40,
   "metadata": {},
   "outputs": [],
   "source": [
    "class Node(object):\n",
    "    def __init__(self, data):\n",
    "        self.data = data\n",
    "        self.nextNode = None\n",
    "    def remove(self, data, previousNode):\n",
    "        if(self.data == data):\n",
    "            previousNode.nextNode = self.nextNode\n",
    "            del self.data\n",
    "            del self.nextNode\n",
    "        elif self.nextNode is not None: \n",
    "            self.nextNode.remove(data, self)\n",
    "        else: print(\"there is no such data\")"
   ]
  },
  {
   "cell_type": "markdown",
   "metadata": {},
   "source": [
    "By default, the linked list class has only one head, which points nowhere/None because it is alone. The head is pointing towards the first node when it is produced, and the first node is pointing nowhere/to none until the next node is added.\n",
    "\n",
    "To add the element at the start of the list, we create a basic node and connect it to the next node if it exits; otherwise, we simply create a node, then make the head reference to this newly created node, and the element is added at the start of the list. This is done in O(1) time complexity as we are just creating a new node and doing few simplel operations to finish the adding\n",
    "\n",
    "To add the element at the end of the list, we must first traverse the list until we reach the end, and then add the newly created node by having the last node point to the new node. This can be done in O(n) time complexity as we cannot directly go to last element and we have to traverse through all elements\n",
    "\n",
    "While finding the size of the linked list we are creating a count variable and then using it as a counter while traversing the list, this will take the O(n) complexity as here again we are traversing the list. But this complexity can possibly be reduced to O(1) by maintaining the counter variable in innit itself and increasing or decreasing the value everytime the operation is done on the list.\n",
    "\n",
    "Removing an element in list is also a O(n) complexity as we are finding the element throuhg traversing the list and if we do not find the element after traversal in our worst case then we are not removing the element."
   ]
  },
  {
   "cell_type": "code",
   "execution_count": 41,
   "metadata": {},
   "outputs": [],
   "source": [
    "class LinkedList(object):\n",
    "    def __init__(self):\n",
    "        self.head = None\n",
    "        \n",
    "    #O(1)\n",
    "    def insertFirst(self, data):\n",
    "        self.counter += 1\n",
    "        newNode = Node(data)\n",
    "        if self.head is None:\n",
    "            self.head = newNode\n",
    "        else:\n",
    "            newNode.nextNode = self.head\n",
    "            self.head = newNode\n",
    "    \n",
    "    #O(n)\n",
    "    def insertLast(self, data):\n",
    "        newNode = Node(data)\n",
    "        if self.head is None:\n",
    "            self.head = newNode\n",
    "        else:\n",
    "            actualNode = self.head\n",
    "            while actualNode.nextNode is not None:\n",
    "                actualNode = actualNode.nextNode\n",
    "            actualNode.nextNode = newNode\n",
    "    \n",
    "    #O(n)\n",
    "    def sizeOfList(self):\n",
    "        count = 1\n",
    "        actualNode = self.head\n",
    "        while actualNode.nextNode is not None:\n",
    "            count += 1\n",
    "            actualNode = actualNode.nextNode\n",
    "        return count\n",
    "    \n",
    "    #O(n)\n",
    "    def remove(self, data):\n",
    "        if self.head is None:\n",
    "            print(\"there is no data to be removed\")\n",
    "        elif data == self.head.data:\n",
    "            self.head = self.head.nextNode\n",
    "        else:\n",
    "            self.head.nextNode.remove(data, self.head)\n",
    "    \n",
    "    #O(n)\n",
    "    def traverse(self):\n",
    "        actualNode = self.head\n",
    "        pos = 0\n",
    "        while actualNode is not None:\n",
    "            pos += 1\n",
    "            print(f\"the element at {pos} position is {actualNode.data}\" )\n",
    "            actualNode = actualNode.nextNode "
   ]
  },
  {
   "cell_type": "code",
   "execution_count": 42,
   "metadata": {},
   "outputs": [
    {
     "name": "stdout",
     "output_type": "stream",
     "text": [
      "the element at 1 position is 112\n",
      "the element at 2 position is 12\n",
      "the element at 3 position is 122\n",
      "the element at 4 position is 1212\n",
      "the size of the array is 4\n",
      "after removing element 112\n",
      "the element at 1 position is 12\n",
      "the element at 2 position is 122\n",
      "the element at 3 position is 1212\n",
      "the size of the array is 3\n"
     ]
    }
   ],
   "source": [
    "linkedList = LinkedList();\n",
    "linkedList.insertLast(12);\n",
    "linkedList.insertLast(122);\n",
    "linkedList.insertLast(1212);\n",
    "linkedList.insertFirst(112);\n",
    "\n",
    "linkedList.traverse()\n",
    "print(f\"the size of the array is {linkedList.sizeOfList()}\")\n",
    "linkedList.remove(112)\n",
    "print(f\"after removing element 112\")\n",
    "\n",
    "linkedList.traverse()\n",
    "\n",
    "print(f\"the size of the array is {linkedList.sizeOfList()}\")"
   ]
  },
  {
   "cell_type": "markdown",
   "metadata": {},
   "source": [
    "## I. MATHEMATICAL PROBLEMS"
   ]
  },
  {
   "cell_type": "markdown",
   "metadata": {},
   "source": [
    "## Check if number is plaindrome"
   ]
  },
  {
   "cell_type": "code",
   "execution_count": 3,
   "metadata": {},
   "outputs": [],
   "source": [
    "def checkPalindrome(val):\n",
    "    if not val//10: #checking for single digit number\n",
    "        return True\n",
    "    else:\n",
    "        rev = 0 #reverse number initiation\n",
    "        actual = val #storing actual number to compare later\n",
    "        while val: #in each iteration we are removing one digit, running loop till we have numeber\n",
    "            temp = val%10 #getting last digit\n",
    "            rev = rev*10 + temp #making reverse numbers\n",
    "            val = val//10 #removing last digit\n",
    "        return True if actual == rev else False #returning value"
   ]
  },
  {
   "cell_type": "code",
   "execution_count": 4,
   "metadata": {},
   "outputs": [
    {
     "name": "stdout",
     "output_type": "stream",
     "text": [
      "True\n"
     ]
    }
   ],
   "source": [
    "print(checkPalindrome(303))"
   ]
  },
  {
   "cell_type": "markdown",
   "metadata": {},
   "source": [
    "## Factorial of N"
   ]
  },
  {
   "cell_type": "markdown",
   "metadata": {},
   "source": [
    "Factorial is defined as multiplication of all numbers till that number and N>0.\n",
    "\n",
    "For example factorial of 4 is 1 * 2 * 3 * 4 = 24 and factorial of 6 is 1 * 2 * 3 * 4 * 5 * 6 = 720"
   ]
  },
  {
   "cell_type": "code",
   "execution_count": 7,
   "metadata": {},
   "outputs": [],
   "source": [
    "def factorial(num):\n",
    "    val = 1\n",
    "    for i in range(1, num+1):\n",
    "        val = val*i\n",
    "    return val"
   ]
  },
  {
   "cell_type": "code",
   "execution_count": 9,
   "metadata": {},
   "outputs": [
    {
     "data": {
      "text/plain": [
       "24"
      ]
     },
     "execution_count": 9,
     "metadata": {},
     "output_type": "execute_result"
    }
   ],
   "source": [
    "factorial(4)"
   ]
  },
  {
   "cell_type": "code",
   "execution_count": 10,
   "metadata": {},
   "outputs": [
    {
     "data": {
      "text/plain": [
       "720"
      ]
     },
     "execution_count": 10,
     "metadata": {},
     "output_type": "execute_result"
    }
   ],
   "source": [
    "factorial(6)"
   ]
  },
  {
   "cell_type": "markdown",
   "metadata": {},
   "source": [
    "## Factorial using recursion\n",
    "\n",
    "fact(4) calls:\n",
    "\n",
    "    4 * fact(3)\n",
    "    \n",
    "    3 * fact(2)\n",
    "    \n",
    "    2 * fact(1)\n",
    "    \n",
    "    1 * fact(0)\n",
    "    \n",
    "fact(0) returns 1\n",
    "\n",
    "and then the stack return 1 * 2 * 3 * 4 * 5 * 6\n",
    "    \n",
    "    \n",
    "In this case the function take theta(n) space as we will have a point where there will be n+1 function calls in a stack, whereas in above case we had a function with constant space.\n"
   ]
  },
  {
   "cell_type": "code",
   "execution_count": 21,
   "metadata": {},
   "outputs": [],
   "source": [
    "def factorials(num):\n",
    "    if(num < 0): return 0\n",
    "    if(num == 0):\n",
    "        return 1\n",
    "    else: return num*factorials(num - 1)"
   ]
  },
  {
   "cell_type": "code",
   "execution_count": 22,
   "metadata": {},
   "outputs": [
    {
     "data": {
      "text/plain": [
       "120"
      ]
     },
     "execution_count": 22,
     "metadata": {},
     "output_type": "execute_result"
    }
   ],
   "source": [
    "factorials(5)"
   ]
  },
  {
   "cell_type": "markdown",
   "metadata": {},
   "source": [
    "## Trailing Zeros in factorial \n",
    "\n",
    "we are given a number and our task is to find trailing zeros in factorial of that number\n",
    "\n",
    "n = 5\n",
    "\n",
    "factorial = 120\n",
    "\n",
    "op = 1"
   ]
  },
  {
   "cell_type": "code",
   "execution_count": 48,
   "metadata": {},
   "outputs": [],
   "source": [
    "def trailingZeros(num):\n",
    "    fact = 1\n",
    "    count = 0\n",
    "    for i in range(1, num+1):\n",
    "        fact = fact*i\n",
    "    print(fact)\n",
    "    while not fact%10:\n",
    "        count += 1\n",
    "        fact = fact//10\n",
    "    return count"
   ]
  },
  {
   "cell_type": "code",
   "execution_count": 53,
   "metadata": {},
   "outputs": [
    {
     "name": "stdout",
     "output_type": "stream",
     "text": [
      "120\n"
     ]
    },
    {
     "data": {
      "text/plain": [
       "1"
      ]
     },
     "execution_count": 53,
     "metadata": {},
     "output_type": "execute_result"
    }
   ],
   "source": [
    "trailingZeros(5)"
   ]
  },
  {
   "cell_type": "code",
   "execution_count": 51,
   "metadata": {},
   "outputs": [
    {
     "name": "stdout",
     "output_type": "stream",
     "text": [
      "2432902008176640000\n"
     ]
    },
    {
     "data": {
      "text/plain": [
       "4"
      ]
     },
     "execution_count": 51,
     "metadata": {},
     "output_type": "execute_result"
    }
   ],
   "source": [
    "trailingZeros(20)"
   ]
  },
  {
   "cell_type": "markdown",
   "metadata": {},
   "source": [
    "The above solution will run good for all the values. But as the value gets bigger, the factorial number gets even larger. In python we might not face any issue but this logic will give overflow issues in other languages, also its not the most efficient way of handling space complexity\n",
    "\n",
    "we can avoid this by finding a pair of 2 * 5 as this is what will lead to a trailing zero. To make this even simpler we can count number of 5's we have as in most cases number of 5's will be less.\n",
    "\n",
    "1 * 2 * 3 * 4 * 5 * 6 * 7 * 8 * 9 * 10 ......\n",
    "\n",
    "In prime factorization of number we can see that we have 5 repeating for atleast 5 values, that means we can safely assume that we have floor of (n/5) 5's in any number. i.e 5 is repeating for each 5 numbers atleast\n",
    "\n"
   ]
  },
  {
   "cell_type": "code",
   "execution_count": 79,
   "metadata": {},
   "outputs": [],
   "source": [
    "def trailingZeros2(num):\n",
    "    count = 0\n",
    "    i = 5\n",
    "    while i <= num:\n",
    "        count = count + num//i\n",
    "        i *= 5\n",
    "    return count"
   ]
  },
  {
   "cell_type": "code",
   "execution_count": 82,
   "metadata": {},
   "outputs": [
    {
     "data": {
      "text/plain": [
       "62"
      ]
     },
     "execution_count": 82,
     "metadata": {},
     "output_type": "execute_result"
    }
   ],
   "source": [
    "trailingZeros2(251)"
   ]
  },
  {
   "cell_type": "code",
   "execution_count": 83,
   "metadata": {},
   "outputs": [
    {
     "name": "stdout",
     "output_type": "stream",
     "text": [
      "811446921488186040812524452558116486219705773136118947353733549205318760636332913581693296758128078062183055345650547664609463859915056696520548600046891762340808337287505448037728337751512715064266648553413711482053864096073935168807868779389231199415987090547371213614453678579719100407204882954963078533417133568165939310960491560595435373673195910930411701938747154349882416287042721093688617485205308997682124247612021055212748800000000000000000000000000000000000000000000000000000000000000\n"
     ]
    },
    {
     "data": {
      "text/plain": [
       "62"
      ]
     },
     "execution_count": 83,
     "metadata": {},
     "output_type": "execute_result"
    }
   ],
   "source": [
    "trailingZeros(251)"
   ]
  },
  {
   "cell_type": "markdown",
   "metadata": {},
   "source": [
    "## Greatest Common Divisor\n",
    "\n",
    "we need to find a greatest common divisor between two numbers\n",
    "\n",
    "example, a = 4, b = 6\n",
    "\n",
    "o/p - 2\n",
    "\n",
    "two numbers does not have a common divisor except 1 then it can be composit as well as prime. Example 3, 4 and 9, 10\n",
    "\n",
    "relation of GCD with tiling problem.\n",
    "\n",
    "make rectangle of a X b and finding sides of the largest square using which we can tile the whole rectangle."
   ]
  },
  {
   "cell_type": "markdown",
   "metadata": {},
   "source": [
    "## approach\n",
    "\n",
    "start with assuming smallest number is a gcd and common divisor cannot me more than the lowest number\n",
    "\n",
    "start decrementing the this number and see if both numbers are divisible by this gcd\n",
    "\n",
    "in case it matches that is gcd and break the loop.\n",
    "\n",
    "in worst case the value is 1."
   ]
  },
  {
   "cell_type": "code",
   "execution_count": 15,
   "metadata": {},
   "outputs": [],
   "source": [
    "def gcd(a, b):\n",
    "    limit = a if a<b else b\n",
    "    gcd = limit\n",
    "    for i in range(1, limit+1)[::-1]:\n",
    "        if(a%i == 0 and b%i ==0):\n",
    "            gcd = i\n",
    "            break\n",
    "        else: continue\n",
    "    return gcd"
   ]
  },
  {
   "cell_type": "code",
   "execution_count": 16,
   "metadata": {},
   "outputs": [
    {
     "data": {
      "text/plain": [
       "1"
      ]
     },
     "execution_count": 16,
     "metadata": {},
     "output_type": "execute_result"
    }
   ],
   "source": [
    "gcd(7, 13)"
   ]
  },
  {
   "cell_type": "code",
   "execution_count": 17,
   "metadata": {},
   "outputs": [
    {
     "data": {
      "text/plain": [
       "100"
      ]
     },
     "execution_count": 17,
     "metadata": {},
     "output_type": "execute_result"
    }
   ],
   "source": [
    "gcd(100, 200)"
   ]
  },
  {
   "cell_type": "markdown",
   "metadata": {},
   "source": [
    "## euclidean algorithm for GCD\n",
    "\n",
    "basic idea is that is b is smaller than a then gcd(a, b) = gcd(a-b, b)\n",
    "\n",
    "why? lets write a theory. Let g be the gcd of a and b\n",
    "\n",
    "a = gx, b = gy and gcd(x, y) = 1\n",
    "\n",
    "(a-b) = g(x-y)"
   ]
  },
  {
   "cell_type": "markdown",
   "metadata": {},
   "source": [
    "Example go through\n",
    "\n",
    "a = 12, 15\n",
    "\n",
    "12, 3\n",
    "\n",
    "9, 3\n",
    "\n",
    "6, 3\n",
    "\n",
    "3, 3"
   ]
  },
  {
   "cell_type": "code",
   "execution_count": 21,
   "metadata": {},
   "outputs": [],
   "source": [
    "def euclideanGCD(a, b):\n",
    "    while(a!=b):\n",
    "        if a>b:\n",
    "            a = a-b\n",
    "        else: b = b-a\n",
    "        \n",
    "    return a"
   ]
  },
  {
   "cell_type": "code",
   "execution_count": 22,
   "metadata": {},
   "outputs": [
    {
     "data": {
      "text/plain": [
       "100"
      ]
     },
     "execution_count": 22,
     "metadata": {},
     "output_type": "execute_result"
    }
   ],
   "source": [
    "euclideanGCD(100, 200)"
   ]
  },
  {
   "cell_type": "code",
   "execution_count": 23,
   "metadata": {},
   "outputs": [
    {
     "data": {
      "text/plain": [
       "1"
      ]
     },
     "execution_count": 23,
     "metadata": {},
     "output_type": "execute_result"
    }
   ],
   "source": [
    "euclideanGCD(2, 3)"
   ]
  },
  {
   "cell_type": "markdown",
   "metadata": {},
   "source": [
    "## optimised euclidean algorithm"
   ]
  },
  {
   "cell_type": "markdown",
   "metadata": {},
   "source": [
    "## walkthrough\n",
    "\n",
    "12, 15\n",
    "\n",
    "15, 12\n",
    "\n",
    "12, 3\n",
    "\n",
    "3, 0"
   ]
  },
  {
   "cell_type": "code",
   "execution_count": 25,
   "metadata": {},
   "outputs": [],
   "source": [
    "def euclideanGCD(a, b):\n",
    "    if(b == 0):\n",
    "        return a\n",
    "    else: return euclideanGCD(b, a%b)"
   ]
  },
  {
   "cell_type": "code",
   "execution_count": 26,
   "metadata": {},
   "outputs": [
    {
     "data": {
      "text/plain": [
       "100"
      ]
     },
     "execution_count": 26,
     "metadata": {},
     "output_type": "execute_result"
    }
   ],
   "source": [
    "euclideanGCD(100, 200)"
   ]
  },
  {
   "cell_type": "code",
   "execution_count": 28,
   "metadata": {},
   "outputs": [],
   "source": [
    "def euclideanGCD(a, b):\n",
    "    return a if b==0 else euclideanGCD(b, a%b)"
   ]
  },
  {
   "cell_type": "code",
   "execution_count": 29,
   "metadata": {},
   "outputs": [
    {
     "data": {
      "text/plain": [
       "100"
      ]
     },
     "execution_count": 29,
     "metadata": {},
     "output_type": "execute_result"
    }
   ],
   "source": [
    "euclideanGCD(100, 200)"
   ]
  },
  {
   "cell_type": "markdown",
   "metadata": {},
   "source": [
    "## LCM of two numbers\n",
    "\n",
    "Least common multiple, the smallest number divisible by both numbers\n",
    "\n",
    "a, b = 4, 6\n",
    "\n",
    "o/p = 12\n",
    "\n",
    "there are other multiple of 4, 6 such as 12, 24, 36, etc but the least commong factor is 12\n",
    "\n",
    "a, b = 2, 8\n",
    "\n",
    "o/p = 8\n",
    "\n",
    "when one number is divisible by another then LCM is largest number\n",
    "\n",
    "a, b = 2, 3\n",
    "\n",
    "o/p = 6\n",
    "\n",
    "If two numbers are co prime then LCM is multiplication of those two numbers"
   ]
  },
  {
   "cell_type": "code",
   "execution_count": 6,
   "metadata": {},
   "outputs": [],
   "source": [
    "# naive approach\n",
    "def lcm(a, b):\n",
    "    maxlcm = a if a>=b else b\n",
    "    while(True):\n",
    "        if(maxlcm % a == 0 and maxlcm % b ==0):\n",
    "            return maxlcm\n",
    "        else: maxlcm += 1\n",
    "    return maxlcm    "
   ]
  },
  {
   "cell_type": "code",
   "execution_count": 7,
   "metadata": {},
   "outputs": [
    {
     "data": {
      "text/plain": [
       "12"
      ]
     },
     "execution_count": 7,
     "metadata": {},
     "output_type": "execute_result"
    }
   ],
   "source": [
    "lcm(3, 4)"
   ]
  },
  {
   "cell_type": "code",
   "execution_count": 9,
   "metadata": {},
   "outputs": [
    {
     "data": {
      "text/plain": [
       "8"
      ]
     },
     "execution_count": 9,
     "metadata": {},
     "output_type": "execute_result"
    }
   ],
   "source": [
    "lcm(2, 8)"
   ]
  },
  {
   "cell_type": "code",
   "execution_count": 10,
   "metadata": {},
   "outputs": [
    {
     "data": {
      "text/plain": [
       "12"
      ]
     },
     "execution_count": 10,
     "metadata": {},
     "output_type": "execute_result"
    }
   ],
   "source": [
    "lcm(4, 6)"
   ]
  },
  {
   "cell_type": "markdown",
   "metadata": {},
   "source": [
    "## Formula for LCM\n",
    "\n",
    "a * b = gcd(a, b) * lcm(a, b)"
   ]
  },
  {
   "cell_type": "code",
   "execution_count": 12,
   "metadata": {},
   "outputs": [],
   "source": [
    "def lcm2(a, b):\n",
    "    def gcd(a, b):\n",
    "        return a if b==0 else gcd(b, a%b)\n",
    "\n",
    "    return (a*b)//gcd(a, b)"
   ]
  },
  {
   "cell_type": "code",
   "execution_count": 13,
   "metadata": {},
   "outputs": [
    {
     "data": {
      "text/plain": [
       "6"
      ]
     },
     "execution_count": 13,
     "metadata": {},
     "output_type": "execute_result"
    }
   ],
   "source": [
    "lcm2(2, 3)"
   ]
  },
  {
   "cell_type": "code",
   "execution_count": 14,
   "metadata": {},
   "outputs": [
    {
     "data": {
      "text/plain": [
       "12"
      ]
     },
     "execution_count": 14,
     "metadata": {},
     "output_type": "execute_result"
    }
   ],
   "source": [
    "lcm2(4, 6)"
   ]
  },
  {
   "cell_type": "markdown",
   "metadata": {},
   "source": [
    "# Check if number is prime\n",
    "\n",
    "a number is prime if it is divisible by 1 and itself"
   ]
  },
  {
   "cell_type": "markdown",
   "metadata": {},
   "source": [
    "## Brute force solution\n",
    "\n",
    "checking for all numbers till \"a\" to see if this number is divisible by any other number. If i divides a then it cannot be prime number\n",
    "\n",
    "Time complexity of this naive approach is O(n)"
   ]
  },
  {
   "cell_type": "code",
   "execution_count": 4,
   "metadata": {},
   "outputs": [],
   "source": [
    "def isPrime(a): \n",
    "    count = 0\n",
    "    for i in range(2, a):\n",
    "        if a%i == 0: \n",
    "            count += 1\n",
    "            break\n",
    "        else: continue\n",
    "    return True if count == 0 else False"
   ]
  },
  {
   "cell_type": "code",
   "execution_count": 9,
   "metadata": {},
   "outputs": [
    {
     "data": {
      "text/plain": [
       "True"
      ]
     },
     "execution_count": 9,
     "metadata": {},
     "output_type": "execute_result"
    }
   ],
   "source": [
    "isPrime(2)"
   ]
  },
  {
   "cell_type": "code",
   "execution_count": 5,
   "metadata": {},
   "outputs": [
    {
     "data": {
      "text/plain": [
       "True"
      ]
     },
     "execution_count": 5,
     "metadata": {},
     "output_type": "execute_result"
    }
   ],
   "source": [
    "isPrime(13)"
   ]
  },
  {
   "cell_type": "code",
   "execution_count": 6,
   "metadata": {},
   "outputs": [
    {
     "data": {
      "text/plain": [
       "False"
      ]
     },
     "execution_count": 6,
     "metadata": {},
     "output_type": "execute_result"
    }
   ],
   "source": [
    "isPrime(14)"
   ]
  },
  {
   "cell_type": "code",
   "execution_count": 10,
   "metadata": {},
   "outputs": [
    {
     "data": {
      "text/plain": [
       "True"
      ]
     },
     "execution_count": 10,
     "metadata": {},
     "output_type": "execute_result"
    }
   ],
   "source": [
    "isPrime(101)"
   ]
  },
  {
   "cell_type": "markdown",
   "metadata": {},
   "source": [
    "# optimised solution\n",
    "\n",
    "idea is divisors always appears in pair\n",
    "\n",
    "x*y = n\n",
    "\n",
    "and if x<= y\n",
    "\n",
    "x*x<=n\n",
    "\n",
    "x<n^1/2\n",
    "\n",
    "Then I need to check only till square roo tof n instead of n\n",
    "\n",
    "Example\n",
    "\n",
    "30:(1, 30), (2, 15), (3, 10), (5, 6)\n",
    "\n",
    "65: (1, 65), (5, 13)\n",
    "\n",
    "every divisor x has a y where n/y = x\n",
    "\n",
    "idea is not to check from 2 - n-1 but to check from 2 - square root of n\n",
    "\n",
    "time complexity here is O(n ** 0.5)\n",
    "\n",
    "walk through of n = 37\n",
    "\n",
    "i = 2, 3, 4, 5, 6 and it stops after 6 because next is 7 and 7*7 = 49 which is greater than 37 by doing this we are saving about 30 iterations"
   ]
  },
  {
   "cell_type": "code",
   "execution_count": 24,
   "metadata": {},
   "outputs": [],
   "source": [
    "def isPrimeOptimised(a): \n",
    "    count = 0\n",
    "    for i in range(2, int(a ** 0.5)):\n",
    "        if a%i == 0: \n",
    "            count += 1\n",
    "            break\n",
    "        else: continue\n",
    "    return True if count == 0 else False"
   ]
  },
  {
   "cell_type": "code",
   "execution_count": 27,
   "metadata": {},
   "outputs": [
    {
     "data": {
      "text/plain": [
       "True"
      ]
     },
     "execution_count": 27,
     "metadata": {},
     "output_type": "execute_result"
    }
   ],
   "source": [
    "isPrimeOptimised(101)"
   ]
  },
  {
   "cell_type": "code",
   "execution_count": 28,
   "metadata": {},
   "outputs": [
    {
     "data": {
      "text/plain": [
       "True"
      ]
     },
     "execution_count": 28,
     "metadata": {},
     "output_type": "execute_result"
    }
   ],
   "source": [
    "isPrimeOptimised(2)"
   ]
  },
  {
   "cell_type": "code",
   "execution_count": 29,
   "metadata": {},
   "outputs": [
    {
     "data": {
      "text/plain": [
       "False"
      ]
     },
     "execution_count": 29,
     "metadata": {},
     "output_type": "execute_result"
    }
   ],
   "source": [
    "isPrimeOptimised(30)"
   ]
  },
  {
   "cell_type": "markdown",
   "metadata": {},
   "source": [
    "# further optimised\n",
    "\n",
    "if n is large then square root of n is also large\n",
    "\n",
    "in optimised solution we are running it from 2 - square root of n.\n",
    "\n",
    "We can save many iteration by adding a check for n divisible for 2, 3\n",
    "\n",
    "now that we have removed the iteration for multiplications of 2, 3 that means 1, 2, 3, 4, 6, 8, 9, 10 and their multipliers we need not check.\n",
    "\n",
    "The numbers that we have to check are 5, 7 and their multipliers\n",
    "\n",
    "So we are starting our loop with 5 and checking for 5, 5+2 and then incrimenting our value of i by 6, thereby in our next iteration we are looking for 11, 13 and so on\n",
    "\n",
    "n = 121\n",
    "\n",
    "i = 5\n",
    "\n",
    "i = 11 -- pass, leave\n",
    "\n",
    "n = 1031\n",
    "\n",
    "i = 5\n",
    "\n",
    "i = 11\n",
    "\n",
    "i = 17\n",
    "\n",
    "i = 23\n",
    "\n",
    "i = 29 -- fail, returns true\n",
    "\n",
    "next number is 35 and 35^2 is 1225, more than 1031. "
   ]
  },
  {
   "cell_type": "code",
   "execution_count": 28,
   "metadata": {},
   "outputs": [],
   "source": [
    "def isPrimeMoreOptimised(a): \n",
    "    if a == 1: return False\n",
    "    if a == 2 or a == 3: return True\n",
    "    if a%2 ==0 or a%3 == 0: return False\n",
    "    else:\n",
    "        for i in range(5, int(a ** 0.5)):\n",
    "            if a%i == 0 or a%(i+2) == 0: \n",
    "                return False\n",
    "            else: \n",
    "                i = i + 6\n",
    "                continue\n",
    "        return True\n",
    "     "
   ]
  },
  {
   "cell_type": "code",
   "execution_count": 29,
   "metadata": {},
   "outputs": [
    {
     "data": {
      "text/plain": [
       "True"
      ]
     },
     "execution_count": 29,
     "metadata": {},
     "output_type": "execute_result"
    }
   ],
   "source": [
    "isPrimeMoreOptimised(2)"
   ]
  },
  {
   "cell_type": "code",
   "execution_count": 30,
   "metadata": {},
   "outputs": [
    {
     "data": {
      "text/plain": [
       "False"
      ]
     },
     "execution_count": 30,
     "metadata": {},
     "output_type": "execute_result"
    }
   ],
   "source": [
    "isPrimeMoreOptimised(65)"
   ]
  },
  {
   "cell_type": "code",
   "execution_count": 31,
   "metadata": {},
   "outputs": [
    {
     "data": {
      "text/plain": [
       "False"
      ]
     },
     "execution_count": 31,
     "metadata": {},
     "output_type": "execute_result"
    }
   ],
   "source": [
    "isPrimeMoreOptimised(49)"
   ]
  },
  {
   "cell_type": "code",
   "execution_count": 32,
   "metadata": {},
   "outputs": [
    {
     "data": {
      "text/plain": [
       "True"
      ]
     },
     "execution_count": 32,
     "metadata": {},
     "output_type": "execute_result"
    }
   ],
   "source": [
    "isPrimeMoreOptimised(1031)"
   ]
  },
  {
   "cell_type": "markdown",
   "metadata": {},
   "source": [
    "# prime factors\n",
    "\n",
    "Divisors of a number which are prime\n",
    "\n",
    "n = 12\n",
    "\n",
    "2, 2, 3\n",
    "\n",
    "n = 13\n",
    "\n",
    "13\n",
    "\n",
    "n = 315\n",
    "\n",
    "3, 3, 5, 7\n",
    "\n",
    "by multiplying all numbers from output give original number\n",
    "\n",
    "idea - \n",
    "\n",
    "check if number is prime\n",
    "\n",
    "if number is prime check if n is divisible\n",
    "\n",
    "if it is divisible then print and check if higher powers are divisible\n",
    "\n",
    "if higher power is divisible then print this prime number again\n",
    "\n",
    "if not continue until the value n"
   ]
  },
  {
   "cell_type": "code",
   "execution_count": 49,
   "metadata": {},
   "outputs": [],
   "source": [
    "def primeFactors(n):\n",
    "    for i in range(2, n):\n",
    "        if(isPrimeMoreOptimised(i)):\n",
    "            x = i\n",
    "            while(n%x == 0): #check if prime number is divisible by n\n",
    "                print(i)\n",
    "                x = x*i"
   ]
  },
  {
   "cell_type": "code",
   "execution_count": 50,
   "metadata": {},
   "outputs": [
    {
     "name": "stdout",
     "output_type": "stream",
     "text": [
      "2\n",
      "2\n",
      "3\n"
     ]
    }
   ],
   "source": [
    "primeFactors(12)"
   ]
  },
  {
   "cell_type": "markdown",
   "metadata": {},
   "source": [
    "# optimised solution\n",
    "\n",
    "Divisors always appear in pairs as explained above\n",
    "\n",
    "x*y = n\n",
    "\n",
    "if x<=y\n",
    "\n",
    "x*x <= n\n",
    "\n",
    "this means we can iterate till square root of n to find all prime divisors if there exists\n",
    "\n",
    "a number can be written as multiplication of power of prime numbers\n",
    "\n",
    "450 = 2*3^2 * 5^2\n",
    "\n",
    "find prime factor in 2 = square root of n\n",
    "\n",
    "and the divide the prime factor repeatedly till you find all other prime factors\n",
    "\n",
    "12 - first you find 2 then divide by 2 then by 3\n",
    "\n",
    "450 - first find 2 then 3, 3 and then 5, 5"
   ]
  },
  {
   "cell_type": "code",
   "execution_count": 64,
   "metadata": {},
   "outputs": [],
   "source": [
    "def primeFactorOptimised(n):\n",
    "    if n<=1: return 1\n",
    "    for i in range(2, int(n**0.5)):\n",
    "        while(n%i == 0):\n",
    "            print(i)\n",
    "            n = n/i #removing the printed divisor value\n",
    "    if(n>1): print(int(n)) #to print last prime factor if required in corner cases"
   ]
  },
  {
   "cell_type": "code",
   "execution_count": 65,
   "metadata": {},
   "outputs": [
    {
     "name": "stdout",
     "output_type": "stream",
     "text": [
      "2\n",
      "3\n",
      "3\n",
      "5\n",
      "5\n"
     ]
    }
   ],
   "source": [
    "primeFactorOptimised(450)"
   ]
  },
  {
   "cell_type": "code",
   "execution_count": 66,
   "metadata": {},
   "outputs": [
    {
     "name": "stdout",
     "output_type": "stream",
     "text": [
      "11\n",
      "41\n"
     ]
    }
   ],
   "source": [
    "primeFactorOptimised(451)"
   ]
  },
  {
   "cell_type": "code",
   "execution_count": 67,
   "metadata": {},
   "outputs": [
    {
     "name": "stdout",
     "output_type": "stream",
     "text": [
      "2\n",
      "2\n",
      "3\n",
      "7\n"
     ]
    }
   ],
   "source": [
    "primeFactorOptimised(84)"
   ]
  },
  {
   "cell_type": "markdown",
   "metadata": {},
   "source": [
    "# more optimised solution\n",
    "\n",
    "We can optimise this with the idea that if we handle case of 2, 3 then we would have to check for only 5, 7 and its multipliers. This way we can reduce a lot of iterations for larger numbers\n",
    "\n",
    "in worst case the time complexity is O(square root of n)"
   ]
  },
  {
   "cell_type": "code",
   "execution_count": 75,
   "metadata": {},
   "outputs": [],
   "source": [
    "def primeFactorMoreOptimised(n):\n",
    "    if n<=1: return 1\n",
    "    for i in range(2, 3+1):\n",
    "        while(n%i == 0):\n",
    "            print(i)\n",
    "            n = n/i\n",
    "        \n",
    "    for i in range(5, int(n**0.5)+1):\n",
    "        while(n%i == 0):\n",
    "            print(i)\n",
    "            n = n/i #removing the printed divisor value\n",
    "        while(n%i+2 == 0):\n",
    "            print(i+2)\n",
    "            n = n/i+2\n",
    "        i = i+6\n",
    "    if(n>1): print(int(n)) #to print last prime factor if required in corner cases"
   ]
  },
  {
   "cell_type": "code",
   "execution_count": 76,
   "metadata": {},
   "outputs": [
    {
     "name": "stdout",
     "output_type": "stream",
     "text": [
      "2\n",
      "3\n",
      "3\n",
      "5\n",
      "5\n"
     ]
    }
   ],
   "source": [
    "primeFactorMoreOptimised(450)"
   ]
  },
  {
   "cell_type": "markdown",
   "metadata": {},
   "source": [
    "# All divisors\n",
    "\n",
    "given a number n we need to print all divisors of n"
   ]
  },
  {
   "cell_type": "code",
   "execution_count": 78,
   "metadata": {},
   "outputs": [],
   "source": [
    "def divisors(n):\n",
    "    for i in range(1, n+1):\n",
    "        if n%i == 0:\n",
    "            print(i)"
   ]
  },
  {
   "cell_type": "code",
   "execution_count": 80,
   "metadata": {},
   "outputs": [
    {
     "name": "stdout",
     "output_type": "stream",
     "text": [
      "1\n",
      "3\n",
      "5\n",
      "15\n"
     ]
    }
   ],
   "source": [
    "divisors(15)"
   ]
  },
  {
   "cell_type": "code",
   "execution_count": 81,
   "metadata": {},
   "outputs": [
    {
     "name": "stdout",
     "output_type": "stream",
     "text": [
      "1\n",
      "2\n",
      "4\n",
      "5\n",
      "10\n",
      "20\n",
      "25\n",
      "50\n",
      "100\n"
     ]
    }
   ],
   "source": [
    "divisors(100)"
   ]
  },
  {
   "cell_type": "markdown",
   "metadata": {},
   "source": [
    "# optimised solution\n",
    "\n",
    "Trying to solve in teta(n) time complexity\n",
    "\n",
    "The logic lies in the fact that each divisor exist in a pair\n",
    "\n",
    "example - 30 - (1, 30), (2, 15), (3, 10), (5, 6)\n",
    "\n",
    "one divisor is always smaller or equal to another.\n",
    "\n",
    "x*y = n\n",
    "\n",
    "x<=y\n",
    "\n",
    "then x*x <= n\n",
    "\n",
    "this means if I traverse till root of n then I find atleast one divisor of n\n",
    "\n",
    "when ever i is divisible by i then we print i and we divide n with this i, giving us a pair of divisors \n",
    "\n",
    "This approach will not give numbers in sorted order, to get numbers in sorted order we should run this loop twice. Once from 1 till square root of n and another from square root of n till 1"
   ]
  },
  {
   "cell_type": "code",
   "execution_count": 17,
   "metadata": {},
   "outputs": [],
   "source": [
    "def allDivisor(n):\n",
    "    for i in range(1, int(n**0.5)+1):\n",
    "        if(n%i == 0):\n",
    "            print(i)\n",
    "            if(i!=int(n**0.5)):\n",
    "                print(int(n//i))"
   ]
  },
  {
   "cell_type": "code",
   "execution_count": 18,
   "metadata": {},
   "outputs": [
    {
     "name": "stdout",
     "output_type": "stream",
     "text": [
      "1\n",
      "100\n",
      "2\n",
      "50\n",
      "4\n",
      "25\n",
      "5\n",
      "20\n",
      "10\n"
     ]
    }
   ],
   "source": [
    "allDivisor(100)"
   ]
  },
  {
   "cell_type": "code",
   "execution_count": 19,
   "metadata": {},
   "outputs": [],
   "source": [
    "def allDivisorsSorted(n):\n",
    "    for i in range(1, int(n**0.5)+1):\n",
    "        if(n%i == 0):\n",
    "            print(i)\n",
    "    for i in range(int(n**0.5), 0, -1):\n",
    "        if(n%i == 0):\n",
    "            if(i!=int(n**0.5)):\n",
    "                print(int(n//i))"
   ]
  },
  {
   "cell_type": "code",
   "execution_count": 20,
   "metadata": {},
   "outputs": [
    {
     "name": "stdout",
     "output_type": "stream",
     "text": [
      "1\n",
      "2\n",
      "4\n",
      "5\n",
      "10\n",
      "20\n",
      "25\n",
      "50\n",
      "100\n"
     ]
    }
   ],
   "source": [
    "allDivisorsSorted(100)"
   ]
  },
  {
   "cell_type": "markdown",
   "metadata": {},
   "source": [
    "# sieve of Eratosthenes\n",
    "\n",
    "we are given number n we need to find all prime numbers less than n"
   ]
  },
  {
   "cell_type": "code",
   "execution_count": 33,
   "metadata": {},
   "outputs": [],
   "source": [
    "def sieve(a):\n",
    "    def isPrime(n):\n",
    "        for i in range(2, int(n**0.5)+1):\n",
    "            if(n%i == 0):\n",
    "                return False\n",
    "            else:\n",
    "                continue\n",
    "        return True\n",
    "    for i in range(2, a+1):\n",
    "        if isPrime(i):\n",
    "            print(i)"
   ]
  },
  {
   "cell_type": "code",
   "execution_count": 34,
   "metadata": {},
   "outputs": [
    {
     "name": "stdout",
     "output_type": "stream",
     "text": [
      "2\n",
      "3\n",
      "5\n",
      "7\n"
     ]
    }
   ],
   "source": [
    "sieve(10)"
   ]
  },
  {
   "cell_type": "markdown",
   "metadata": {},
   "source": [
    "# Sieve of Eratosthenes\n",
    "\n",
    "In this algorithm we create an isPrime array of n+1, we initialize array with true and we do not access first two points of array.\n",
    "\n",
    "it only keeps prime as true, and composites as false\n",
    "\n",
    "mark multiple of 2, 3, 5 as false\n",
    "\n",
    "this will eliminate most of the composite numbers and only prime numbers will be remained in the array"
   ]
  },
  {
   "cell_type": "code",
   "execution_count": 64,
   "metadata": {},
   "outputs": [],
   "source": [
    "def sieveAlgo(n):\n",
    "    isPrime = [True for i in range(0, n+1)]\n",
    "    \n",
    "    for i in range(2, int(n**0.5)+1):\n",
    "        if isPrime[i]:\n",
    "            \n",
    "            for j in range(2*i, n+1, i): #to start from second multiple of i, and increment j by i to have multiples\n",
    "                isPrime[j] = False\n",
    "                \n",
    "    for i in range(2, n+1):\n",
    "        if isPrime[i]:\n",
    "            print(i)"
   ]
  },
  {
   "cell_type": "code",
   "execution_count": 65,
   "metadata": {},
   "outputs": [
    {
     "name": "stdout",
     "output_type": "stream",
     "text": [
      "2\n",
      "3\n",
      "5\n",
      "7\n"
     ]
    }
   ],
   "source": [
    "sieveAlgo(10)"
   ]
  },
  {
   "cell_type": "markdown",
   "metadata": {},
   "source": [
    "# More Optimised sieve Algorithm\n",
    "\n",
    "Idea is that we can begin with i * i instead of 2 * i\n",
    "\n",
    "because values from 2 * i will have redundant divisors.\n",
    "\n",
    "before we are having values of \n",
    "\n",
    "5: 10, 15, 20, 25, etc\n",
    "\n",
    "now with i * i we will have values\n",
    "\n",
    "5: 25, 30, etc\n",
    "\n",
    "the missing values 10, 15, 20 are already factors of number less than 5 and are marked false already\n",
    "\n",
    "Time complexity - O(N* loglogn)"
   ]
  },
  {
   "cell_type": "code",
   "execution_count": 61,
   "metadata": {},
   "outputs": [],
   "source": [
    "def sieveAlgoOptimised(n):\n",
    "    isPrime = [True for i in range(0, n+1)]\n",
    "    \n",
    "    for i in range(2, int(n**0.5)+1):\n",
    "        if isPrime[i]:\n",
    "            for j in range(i*i, n+1, i): #to start from second multiple of i, and increment j by i to have multiples\n",
    "                isPrime[j] = False\n",
    "                \n",
    "    for i in range(2, n+1):\n",
    "        if isPrime[i]:\n",
    "            print(i)"
   ]
  },
  {
   "cell_type": "code",
   "execution_count": 62,
   "metadata": {},
   "outputs": [
    {
     "name": "stdout",
     "output_type": "stream",
     "text": [
      "2\n",
      "3\n",
      "5\n",
      "7\n"
     ]
    }
   ],
   "source": [
    "sieveAlgoOptimised(9)"
   ]
  },
  {
   "cell_type": "code",
   "execution_count": 66,
   "metadata": {},
   "outputs": [],
   "source": [
    "def sieveAlgoOptimised(n):\n",
    "    isPrime = [True for i in range(0, n+1)]\n",
    "    \n",
    "    for i in range(2, n+1):\n",
    "        if isPrime[i]:\n",
    "            print(i)\n",
    "            for j in range(i*i, n+1, i): #to start from second multiple of i, and increment j by i to have multiples\n",
    "                isPrime[j] = False"
   ]
  },
  {
   "cell_type": "code",
   "execution_count": 68,
   "metadata": {},
   "outputs": [
    {
     "name": "stdout",
     "output_type": "stream",
     "text": [
      "2\n",
      "3\n",
      "5\n",
      "7\n"
     ]
    }
   ],
   "source": [
    "sieveAlgoOptimised(10)"
   ]
  },
  {
   "cell_type": "markdown",
   "metadata": {},
   "source": [
    "# Computing power of x \n",
    "\n",
    "value of x power n is x * x* x * x * ..... n times\n",
    "\n",
    "naive approach is to run a loop for n times and calculate power using multiplication\n",
    "\n",
    "# Efficient solution\n",
    "\n",
    "Here the main idea is using mathematical formula of x power a * x power b = x power a+b\n",
    "\n",
    "when n is even then x power n = x power n/2 * x power n/2\n",
    "\n",
    "when n is odd then x power n = x power n/2 * x power n/2 * x"
   ]
  },
  {
   "cell_type": "code",
   "execution_count": 79,
   "metadata": {},
   "outputs": [],
   "source": [
    "def power(x, n):\n",
    "    pow = 1\n",
    "    for i in range(1, n+1):\n",
    "        pow = pow*x\n",
    "    return pow"
   ]
  },
  {
   "cell_type": "code",
   "execution_count": 82,
   "metadata": {},
   "outputs": [
    {
     "name": "stdout",
     "output_type": "stream",
     "text": [
      "8\n"
     ]
    }
   ],
   "source": [
    "print(power(2, 3))"
   ]
  },
  {
   "cell_type": "code",
   "execution_count": 105,
   "metadata": {},
   "outputs": [],
   "source": [
    "def powerEfficient(x, n):\n",
    "    pow = 1\n",
    "    \n",
    "    if n<0:\n",
    "        return 1/powerEfficient(x, n - (2*n))\n",
    "    \n",
    "    for i in range(1, (n//2) + 1):\n",
    "        pow = pow*x\n",
    "    pow = pow * pow\n",
    "    if n%2==0:\n",
    "        return pow\n",
    "    else:\n",
    "        return pow * x"
   ]
  },
  {
   "cell_type": "code",
   "execution_count": 106,
   "metadata": {},
   "outputs": [
    {
     "data": {
      "text/plain": [
       "1024"
      ]
     },
     "execution_count": 106,
     "metadata": {},
     "output_type": "execute_result"
    }
   ],
   "source": [
    "powerEfficient(2, 10)"
   ]
  },
  {
   "cell_type": "code",
   "execution_count": 107,
   "metadata": {},
   "outputs": [
    {
     "data": {
      "text/plain": [
       "0.25"
      ]
     },
     "execution_count": 107,
     "metadata": {},
     "output_type": "execute_result"
    }
   ],
   "source": [
    "powerEfficient(2, -2)"
   ]
  },
  {
   "cell_type": "code",
   "execution_count": 108,
   "metadata": {},
   "outputs": [
    {
     "data": {
      "text/plain": [
       "0.0"
      ]
     },
     "execution_count": 108,
     "metadata": {},
     "output_type": "execute_result"
    }
   ],
   "source": [
    "powerEfficient(0.00001, 2147483647)"
   ]
  },
  {
   "cell_type": "markdown",
   "metadata": {},
   "source": [
    "# Iterative power\n",
    "\n",
    "every number can be written as sum of power of 2, this relates to binary digits\n",
    "\n",
    "example 10 = 8 + 2, 19 = 16+2+1\n",
    "\n",
    "we can traverse through all bits of numbers"
   ]
  },
  {
   "cell_type": "code",
   "execution_count": null,
   "metadata": {},
   "outputs": [],
   "source": []
  },
  {
   "cell_type": "markdown",
   "metadata": {},
   "source": [
    "# Searching techniques\n",
    "\n",
    "1. Binary search\n",
    "\n",
    "We are given a sorted array and we need to find index of element if it is present else we need to return -1. If there are multiple occurences we need to return any index\n",
    "\n",
    "example - [5, 15, 25]: 15\n",
    "\n",
    "o/p - 1\n",
    "\n",
    "[10, 15] : 5\n",
    "\n",
    "o/p - -1"
   ]
  },
  {
   "cell_type": "markdown",
   "metadata": {},
   "source": [
    "# naive solution -- linear search\n",
    "\n",
    "we compare one by one in the element from start and then return index when we find element. When element does nto match then we return -1\n",
    "\n",
    "in worst case we run this for teta(n) times\n",
    "\n",
    "Our assumption here is that array is not sorted. \n",
    "\n",
    "What is array is sorted? we need to find a optimised solution in that case\n",
    "\n",
    "# Array is sorted\n",
    "\n",
    "mid = (low + high)/2\n",
    "\n",
    "We find mid point of the length and compare the value with this middles value of x. \n",
    "\n",
    "If value matches then we return the index, if it is less or more then we eliminate the half length of the array and repeat this process.\n",
    "\n",
    "example - [10, 20, 30, 40, 50]: 30\n",
    "\n",
    "here the middle element is 30 and we are searching 30, in this case we return 30 and problem is solved in O(1)\n",
    "\n",
    "[10, 20, 30, 40, 50]: 40\n",
    "\n",
    "in this case we find the middle element - 30 and compare our value - 40 with 30. here mid<value and we skip the first half of array. After this we repeat this with [40, 50] and repeat the process to find element 40\n",
    "\n",
    "To achieve this we change our low to be equals to mid+1, keeping the high same. This way we eliminate our first hlaf of elements. Similarly we would change our high to mid - 1 to eleminate second half of elements\n",
    "\n",
    "time complexity - log(n)"
   ]
  },
  {
   "cell_type": "code",
   "execution_count": 4,
   "metadata": {},
   "outputs": [],
   "source": [
    "def binarySearch(arr, x):\n",
    "    low = 0\n",
    "    high = len(arr) - 1\n",
    "    \n",
    "    while(low<=high):\n",
    "        mid = (low + high)//2\n",
    "        if(arr[mid]==x): return mid\n",
    "        \n",
    "        elif(arr[mid]<x):low = mid + 1\n",
    "        else: high = mid - 1\n",
    "    return -1"
   ]
  },
  {
   "cell_type": "code",
   "execution_count": 6,
   "metadata": {},
   "outputs": [
    {
     "data": {
      "text/plain": [
       "4"
      ]
     },
     "execution_count": 6,
     "metadata": {},
     "output_type": "execute_result"
    }
   ],
   "source": [
    "binarySearch([10, 20, 30, 40, 50, 60], 50)"
   ]
  },
  {
   "cell_type": "markdown",
   "metadata": {},
   "source": [
    "iter 1\n",
    "high - 5\n",
    "low - 0\n",
    "mid - 2\n",
    "x - 25\n",
    "\n",
    "high - 1\n",
    "low - 0\n",
    "mid - 0\n",
    "x - 25\n",
    "\n",
    "high - 1\n",
    "low - 1\n",
    "mid - 1\n",
    "x - 25\n",
    "\n",
    "high - 1\n",
    "low - 2\n",
    "mid - 1\n",
    "x - 25"
   ]
  },
  {
   "cell_type": "code",
   "execution_count": 7,
   "metadata": {},
   "outputs": [
    {
     "data": {
      "text/plain": [
       "-1"
      ]
     },
     "execution_count": 7,
     "metadata": {},
     "output_type": "execute_result"
    }
   ],
   "source": [
    "binarySearch([10, 20, 30, 40, 50, 60], 25)"
   ]
  },
  {
   "cell_type": "markdown",
   "metadata": {},
   "source": [
    "# Recursive appraoch to binary serach\n",
    "\n",
    "time complexity - O(log(n))\n",
    "\n",
    "space complexity is high in recursive call because we have to maintain the high low value in all calls and we need to pass the same array, on top of this for higher higher arrays we may have many recursive calls stored"
   ]
  },
  {
   "cell_type": "code",
   "execution_count": 41,
   "metadata": {},
   "outputs": [],
   "source": [
    "def binaryRecSearch(arr, x, low, high):\n",
    "    \n",
    "    mid = (low+high)//2\n",
    "    \n",
    "    if low>high: return -1\n",
    "    \n",
    "    if(arr[mid] == x): return mid\n",
    "    elif(arr[mid]<x): return binaryRecSearch(arr, x, mid+1, high)\n",
    "    elif(arr[mid]>x): return binaryRecSearch(arr, x, low, mid-1)\n",
    "    \n",
    "    "
   ]
  },
  {
   "cell_type": "code",
   "execution_count": 44,
   "metadata": {},
   "outputs": [
    {
     "name": "stdout",
     "output_type": "stream",
     "text": [
      "5\n"
     ]
    }
   ],
   "source": [
    "print(binaryRecSearch([10, 20, 30, 40, 50, 60, 70], 60, 0, 7))"
   ]
  },
  {
   "cell_type": "code",
   "execution_count": 46,
   "metadata": {},
   "outputs": [
    {
     "name": "stdout",
     "output_type": "stream",
     "text": [
      "-1\n"
     ]
    }
   ],
   "source": [
    "print(binaryRecSearch([10, 20, 30, 40, 50, 60, 70], 25, 0, 7))"
   ]
  },
  {
   "cell_type": "markdown",
   "metadata": {},
   "source": [
    "# Index of first occurence\n",
    "\n",
    "We are given a sorted array and we need to find the first occurence of an element, if not exists then return -1\n",
    "\n",
    "arr = [1, 10, 10, 10 ,10, 20, 20, 23], x = 20\n",
    "\n",
    "o/p = 5"
   ]
  },
  {
   "cell_type": "code",
   "execution_count": 51,
   "metadata": {},
   "outputs": [],
   "source": [
    "def firstOccurence(arr, x):\n",
    "    for i in range(len(arr)):\n",
    "        if(arr[i] == x):\n",
    "            print(i)\n",
    "            break"
   ]
  },
  {
   "cell_type": "code",
   "execution_count": 52,
   "metadata": {},
   "outputs": [
    {
     "name": "stdout",
     "output_type": "stream",
     "text": [
      "5\n"
     ]
    }
   ],
   "source": [
    "firstOccurence([1, 10, 10, 10 ,10, 20, 20, 23], 20)"
   ]
  },
  {
   "cell_type": "markdown",
   "metadata": {},
   "source": [
    "# Optimised solution to find first occurence\n",
    "\n",
    "Divide and conquer\n",
    "\n",
    "We use algorithm of binary search, "
   ]
  },
  {
   "cell_type": "code",
   "execution_count": 60,
   "metadata": {},
   "outputs": [],
   "source": [
    "def firstOccurenceOptimised(arr, x):\n",
    "    low = 0\n",
    "    high = len(arr) - 1\n",
    "    count, val = 0, 0\n",
    "        \n",
    "    while low<=high:\n",
    "        mid = (low+high)//2\n",
    "        if(arr[mid]>=x): \n",
    "            high = mid - 1\n",
    "            if(arr[mid] == x): \n",
    "                count += 1\n",
    "                val = mid\n",
    "        elif(arr[mid]<x): low = mid + 1\n",
    "    \n",
    "    if count != 0: return val\n",
    "    else: return -1"
   ]
  },
  {
   "cell_type": "code",
   "execution_count": 62,
   "metadata": {},
   "outputs": [
    {
     "data": {
      "text/plain": [
       "1"
      ]
     },
     "execution_count": 62,
     "metadata": {},
     "output_type": "execute_result"
    }
   ],
   "source": [
    "firstOccurenceOptimised([1, 10, 10, 10 ,10, 20, 20, 23], 10)"
   ]
  },
  {
   "cell_type": "code",
   "execution_count": 65,
   "metadata": {},
   "outputs": [
    {
     "data": {
      "text/plain": [
       "-1"
      ]
     },
     "execution_count": 65,
     "metadata": {},
     "output_type": "execute_result"
    }
   ],
   "source": [
    "firstOccurenceOptimised([5, 5, 5], 10)"
   ]
  },
  {
   "cell_type": "code",
   "execution_count": 67,
   "metadata": {},
   "outputs": [
    {
     "data": {
      "text/plain": [
       "0"
      ]
     },
     "execution_count": 67,
     "metadata": {},
     "output_type": "execute_result"
    }
   ],
   "source": [
    "firstOccurenceOptimised([5], 5)"
   ]
  },
  {
   "cell_type": "markdown",
   "metadata": {},
   "source": [
    "# More optimised solution for First occurance with O(log(n))\n",
    "\n",
    "Here the logic is to search using binary search, if we dont find element then we return -1\n",
    "\n",
    "If we find the element then we check the index.. if index is 0 - this means that element is at the start- we return this index, else if mid - 1 element and mid element are not equal then we return the mid... If previous element matches with mid then we change our high to mid - 1"
   ]
  },
  {
   "cell_type": "code",
   "execution_count": 3,
   "metadata": {},
   "outputs": [],
   "source": [
    "def firstOcc(arr, x):\n",
    "    low = 0\n",
    "    high = len(arr) - 1\n",
    "    \n",
    "    while(low<=high):\n",
    "        mid = (low+high)//2\n",
    "        \n",
    "        if(arr[mid]>x):\n",
    "            high = mid - 1\n",
    "        if(arr[mid]<x):\n",
    "            low = mid+1\n",
    "        if(arr[mid] == x):\n",
    "            if((mid == 0) or (arr[mid-1] != arr[mid])):\n",
    "                return mid\n",
    "            else: high = mid - 1\n",
    "    return -1"
   ]
  },
  {
   "cell_type": "code",
   "execution_count": 9,
   "metadata": {},
   "outputs": [
    {
     "data": {
      "text/plain": [
       "1"
      ]
     },
     "execution_count": 9,
     "metadata": {},
     "output_type": "execute_result"
    }
   ],
   "source": [
    "firstOcc([2, 5, 5], 5)"
   ]
  },
  {
   "cell_type": "code",
   "execution_count": 5,
   "metadata": {},
   "outputs": [
    {
     "data": {
      "text/plain": [
       "-1"
      ]
     },
     "execution_count": 5,
     "metadata": {},
     "output_type": "execute_result"
    }
   ],
   "source": [
    "firstOcc([5, 5, 5], 10)"
   ]
  },
  {
   "cell_type": "code",
   "execution_count": 6,
   "metadata": {},
   "outputs": [
    {
     "data": {
      "text/plain": [
       "0"
      ]
     },
     "execution_count": 6,
     "metadata": {},
     "output_type": "execute_result"
    }
   ],
   "source": [
    "firstOcc([5, 5, 5], 5)"
   ]
  },
  {
   "cell_type": "code",
   "execution_count": 7,
   "metadata": {},
   "outputs": [
    {
     "data": {
      "text/plain": [
       "1"
      ]
     },
     "execution_count": 7,
     "metadata": {},
     "output_type": "execute_result"
    }
   ],
   "source": [
    "firstOcc([1, 10, 10, 10 ,10, 20, 20, 23], 10)"
   ]
  },
  {
   "cell_type": "markdown",
   "metadata": {},
   "source": [
    "# index of last occurence in a sorted array"
   ]
  },
  {
   "cell_type": "code",
   "execution_count": 82,
   "metadata": {},
   "outputs": [],
   "source": [
    "def lastOccurenceOptimised(arr, x):\n",
    "    low = 0\n",
    "    high = len(arr) - 1\n",
    "    count, val = 0, 0\n",
    "        \n",
    "    while low<=high:\n",
    "        mid = (low+high)//2\n",
    "        if(arr[mid]<=x): \n",
    "            low = mid + 1\n",
    "            if(arr[mid] == x): \n",
    "                count += 1\n",
    "                val = mid\n",
    "        elif(arr[mid]>x): high = mid - 1\n",
    "    \n",
    "#     if count != 0: return val \n",
    "#     else: return -1\n",
    "    return val if count else -1"
   ]
  },
  {
   "cell_type": "code",
   "execution_count": 83,
   "metadata": {},
   "outputs": [
    {
     "data": {
      "text/plain": [
       "4"
      ]
     },
     "execution_count": 83,
     "metadata": {},
     "output_type": "execute_result"
    }
   ],
   "source": [
    "lastOccurenceOptimised([1, 10, 10, 10 ,10, 20, 20, 23], 10)"
   ]
  },
  {
   "cell_type": "markdown",
   "metadata": {},
   "source": [
    "# Optimised solution for last occurence in a sorted array O(log(n))\n",
    "\n",
    "Here the logic is similar to first occurance but when element matches we look for next occurances in next half of the array"
   ]
  },
  {
   "cell_type": "code",
   "execution_count": 11,
   "metadata": {},
   "outputs": [],
   "source": [
    "def lastOcc(arr, x):\n",
    "    low = 0\n",
    "    high = len(arr) - 1\n",
    "    \n",
    "    while(low<=high):\n",
    "        mid = (low+high)//2\n",
    "        if(arr[mid]>x):\n",
    "            high = mid - 1\n",
    "        if(arr[mid]<x):\n",
    "            low = mid + 1\n",
    "        if(arr[mid]==x):\n",
    "                if((mid == len(arr) - 1) or (arr[mid] != arr[mid+1])):\n",
    "                    return mid\n",
    "                else: low = mid +1\n",
    "    return -1"
   ]
  },
  {
   "cell_type": "code",
   "execution_count": 12,
   "metadata": {},
   "outputs": [
    {
     "data": {
      "text/plain": [
       "4"
      ]
     },
     "execution_count": 12,
     "metadata": {},
     "output_type": "execute_result"
    }
   ],
   "source": [
    "lastOcc([1, 10, 10, 10 ,10, 20, 20, 23], 10)"
   ]
  },
  {
   "cell_type": "code",
   "execution_count": 13,
   "metadata": {},
   "outputs": [
    {
     "data": {
      "text/plain": [
       "8"
      ]
     },
     "execution_count": 13,
     "metadata": {},
     "output_type": "execute_result"
    }
   ],
   "source": [
    "lastOcc([1, 10, 10, 10 ,10, 20, 20, 23, 23], 23)"
   ]
  },
  {
   "cell_type": "markdown",
   "metadata": {},
   "source": [
    "# Count occurences of element in a sorted array\n",
    "\n",
    "Naive approach using binary search!\n",
    "\n",
    "Find an element and expande high low on both sides\n",
    "\n",
    "complexity is O(logn +k)"
   ]
  },
  {
   "cell_type": "code",
   "execution_count": 106,
   "metadata": {},
   "outputs": [],
   "source": [
    "def countOccurences(arr, x):\n",
    "    low = 0\n",
    "    high = len(arr) - 1\n",
    "    count = 0\n",
    "    \n",
    "    while(low<=high):\n",
    "        mid = (low+high)//2\n",
    "        \n",
    "        if(arr[mid] == x):\n",
    "            if not count:\n",
    "                count += 1\n",
    "                high, low = mid+1, mid-1\n",
    "                continue\n",
    "                \n",
    "            if high + 1 > len(arr): break\n",
    "                 \n",
    "            if(arr[high] == arr[mid]): \n",
    "                high = high+1\n",
    "                count += 1\n",
    "            if(arr[low] == arr[mid]): \n",
    "                low = low - 1\n",
    "                count += 1\n",
    "                \n",
    "            if(arr[low] != arr[mid] and arr[low] != arr[mid]):\n",
    "                break            \n",
    "                \n",
    "        elif(arr[mid] > x): high = mid-1\n",
    "        elif(arr[mid] < x): low = mid + 1\n",
    "            \n",
    "    return count if count else -1"
   ]
  },
  {
   "cell_type": "code",
   "execution_count": 94,
   "metadata": {},
   "outputs": [
    {
     "name": "stdout",
     "output_type": "stream",
     "text": [
      "2\n"
     ]
    }
   ],
   "source": [
    "print(countOccurences([1, 10, 10, 10 ,10, 20, 20, 23], 20))"
   ]
  },
  {
   "cell_type": "code",
   "execution_count": 95,
   "metadata": {},
   "outputs": [
    {
     "name": "stdout",
     "output_type": "stream",
     "text": [
      "-1\n"
     ]
    }
   ],
   "source": [
    "print(countOccurences([1, 10, 10, 10 ,10, 20, 20, 23], 90))"
   ]
  },
  {
   "cell_type": "code",
   "execution_count": 107,
   "metadata": {},
   "outputs": [
    {
     "name": "stdout",
     "output_type": "stream",
     "text": [
      "1\n"
     ]
    }
   ],
   "source": [
    "print(countOccurences([1, 10, 10, 10 ,10, 20, 20, 23], 23))"
   ]
  },
  {
   "cell_type": "code",
   "execution_count": 103,
   "metadata": {},
   "outputs": [
    {
     "name": "stdout",
     "output_type": "stream",
     "text": [
      "1\n"
     ]
    }
   ],
   "source": [
    "print(countOccurences([1, 10, 10, 10 ,10, 20, 21, 23], 1))"
   ]
  },
  {
   "cell_type": "markdown",
   "metadata": {},
   "source": [
    "# Optimised solution for counting elements with O(log(n))\n",
    "\n",
    "Here the logic is to use the optimised solutions for first occurances and last occurance. Once we find the indexes for both occurances then we can get the count with sing operation.\n",
    "\n",
    "The complexity would be O(log(n)) + O(log(n)) = O(log(n))"
   ]
  },
  {
   "cell_type": "code",
   "execution_count": 15,
   "metadata": {},
   "outputs": [],
   "source": [
    "def countOcc(arr, x):\n",
    "    return lastOcc(arr, x) - firstOcc(arr, x) + 1"
   ]
  },
  {
   "cell_type": "code",
   "execution_count": 16,
   "metadata": {},
   "outputs": [
    {
     "data": {
      "text/plain": [
       "1"
      ]
     },
     "execution_count": 16,
     "metadata": {},
     "output_type": "execute_result"
    }
   ],
   "source": [
    "countOcc([1, 10, 10, 10 ,10, 20, 21, 23], 1)"
   ]
  },
  {
   "cell_type": "code",
   "execution_count": 17,
   "metadata": {},
   "outputs": [
    {
     "data": {
      "text/plain": [
       "4"
      ]
     },
     "execution_count": 17,
     "metadata": {},
     "output_type": "execute_result"
    }
   ],
   "source": [
    "countOcc([1, 10, 10, 10 ,10, 20, 21, 23], 10)"
   ]
  },
  {
   "cell_type": "markdown",
   "metadata": {},
   "source": [
    "# Count 1's in a sorted binary array"
   ]
  },
  {
   "cell_type": "code",
   "execution_count": 19,
   "metadata": {},
   "outputs": [],
   "source": [
    "def countOnes(arr):\n",
    "    return len(arr) - firstOcc(arr, 1) if firstOcc(arr, 1) != -1 else -1"
   ]
  },
  {
   "cell_type": "code",
   "execution_count": 20,
   "metadata": {},
   "outputs": [
    {
     "data": {
      "text/plain": [
       "1"
      ]
     },
     "execution_count": 20,
     "metadata": {},
     "output_type": "execute_result"
    }
   ],
   "source": [
    "countOnes([0, 0, 0, 1])"
   ]
  },
  {
   "cell_type": "code",
   "execution_count": 21,
   "metadata": {},
   "outputs": [
    {
     "data": {
      "text/plain": [
       "-1"
      ]
     },
     "execution_count": 21,
     "metadata": {},
     "output_type": "execute_result"
    }
   ],
   "source": [
    "countOnes([0, 0, 0, 0])"
   ]
  },
  {
   "cell_type": "code",
   "execution_count": 22,
   "metadata": {},
   "outputs": [
    {
     "data": {
      "text/plain": [
       "4"
      ]
     },
     "execution_count": 22,
     "metadata": {},
     "output_type": "execute_result"
    }
   ],
   "source": [
    "countOnes([1, 1, 1, 1])"
   ]
  },
  {
   "cell_type": "markdown",
   "metadata": {},
   "source": [
    "# Find a square root using binary search\n",
    "\n",
    "If x is perfect square then return root else return floor of root of x"
   ]
  },
  {
   "cell_type": "code",
   "execution_count": 33,
   "metadata": {},
   "outputs": [],
   "source": [
    "def sqrRt(x):\n",
    "    low = 1\n",
    "    high = x \n",
    "    ans = -1\n",
    "    \n",
    "    while(low<=high):\n",
    "        mid = (low+high)//2\n",
    "        if(mid*mid == x): return mid\n",
    "        elif(mid*mid>x): high = mid -1\n",
    "        elif(mid*mid<x):\n",
    "            ans = mid\n",
    "            low = mid+1\n",
    "    return ans"
   ]
  },
  {
   "cell_type": "code",
   "execution_count": 35,
   "metadata": {},
   "outputs": [
    {
     "data": {
      "text/plain": [
       "10"
      ]
     },
     "execution_count": 35,
     "metadata": {},
     "output_type": "execute_result"
    }
   ],
   "source": [
    "sqrRt(100)"
   ]
  },
  {
   "cell_type": "markdown",
   "metadata": {},
   "source": [
    " # Search an element in infinite length of array\n",
    " \n",
    " # Unbounded binary search\n",
    " \n",
    " if array length is infinite the naive appraoch of linear search will take O(position) time\n",
    " \n",
    " The more efficient solution is to start with index 1 and start increment it exponentially to search in indexes.\n",
    " \n",
    " Instead of searching from 1, 2, 3,4 so on, now we search 1, 2, 4, 8, 16, 64 positions.\n",
    " \n",
    " If we find a number at 64th position greater than our original number then we do binary search of index(16, 64)\n",
    " \n",
    " Time complexity of this solution is O(log(position))"
   ]
  },
  {
   "cell_type": "code",
   "execution_count": 116,
   "metadata": {},
   "outputs": [],
   "source": [
    "def infiniteSearch(arr, x):\n",
    "    if(arr[0] == x): return 0\n",
    "    i = 1\n",
    "    while(arr[i]<x):\n",
    "        i = i*2\n",
    "        if(arr[i]==x): return i\n",
    "        else: return binarySearch(arr[i//2+1:i-1], x)"
   ]
  },
  {
   "cell_type": "code",
   "execution_count": 117,
   "metadata": {},
   "outputs": [
    {
     "data": {
      "text/plain": [
       "-1"
      ]
     },
     "execution_count": 117,
     "metadata": {},
     "output_type": "execute_result"
    }
   ],
   "source": [
    "infiniteSearch([1, 2, 3, 4, 5, 6, 7, 8, 9, 10], 5)"
   ]
  },
  {
   "cell_type": "markdown",
   "metadata": {},
   "source": [
    "# Find element in a sorted rotated array\n",
    "\n",
    "arr = 10, 20, 30, 40, 50, 8, 9 ; x = 30\n",
    "\n",
    "arr = 100, 200, 300, 400, 20, 30 , 40; x = 30\n",
    "\n",
    "arr = 10, 20, 30, 40, 50, 8, 9 ; x = 8\n",
    "\n",
    "arr = 100, 200, 10, 20, 30, 40 , 50; x = 30\n",
    "\n",
    "we dpnt know how much the array is rotated! we need to find the index of element if present, -1 otherwise"
   ]
  },
  {
   "cell_type": "code",
   "execution_count": null,
   "metadata": {},
   "outputs": [],
   "source": [
    "def searchRotatedArray(arr, x):\n",
    "    low = 0\n",
    "    high = len(arr) - 1\n",
    "    \n",
    "    while(low<=high):\n",
    "        mid = (low+high)//2\n",
    "        \n",
    "        if(arr[mid] == x): return mid\n",
    "        \n",
    "        elif(arr[mid]>arr[0]): #first half is sorted\n",
    "            if(arr[0]<=x): #element is in first half\n",
    "                binarySearch(arr, 0, mid, x)\n",
    "                \n",
    "            else:\n",
    "                low = mid+1\n",
    "        else: #left half is sorted\n",
    "            if(arr[len(arr) - 1]>x):\n",
    "                binarySearch(arr, mid+1, len(arr) - 1, x)\n",
    "                \n",
    "            else:high = mid - 1\n",
    "    return -1"
   ]
  },
  {
   "cell_type": "code",
   "execution_count": null,
   "metadata": {},
   "outputs": [],
   "source": [
    "def rotatedArray(arr, x):\n",
    "    "
   ]
  }
 ],
 "metadata": {
  "kernelspec": {
   "display_name": "Python 3",
   "language": "python",
   "name": "python3"
  },
  "language_info": {
   "codemirror_mode": {
    "name": "ipython",
    "version": 3
   },
   "file_extension": ".py",
   "mimetype": "text/x-python",
   "name": "python",
   "nbconvert_exporter": "python",
   "pygments_lexer": "ipython3",
   "version": "3.8.5"
  }
 },
 "nbformat": 4,
 "nbformat_minor": 4
}
