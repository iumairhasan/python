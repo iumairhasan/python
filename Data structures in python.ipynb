{
 "cells": [
  {
   "cell_type": "markdown",
   "metadata": {},
   "source": [
    "# Singly Linked List\n",
    "\n",
    "Singly Linked List consists of nodes, and each node consists of data and address of next node. In this program let's look into basic algorithm on linked lists, that is adding an element in beggining and in the ending, remove a particular element by value and printing the linked list"
   ]
  },
  {
   "cell_type": "markdown",
   "metadata": {},
   "source": [
    "The class Node below consists of data and nextnode. The value of nextnode is set to None by default since we will only have data in it when we initialize a node, and it will be an independent node.\n",
    "\n",
    "To remove an element in Linked List we need to use the node class, as the address of previous and next nodes are traced by nodes itself. If the removing data is present in the very first node then it is deleted in the O(1) time complexity, other we have to traverse through all the nodes to find the element and delete it"
   ]
  },
  {
   "cell_type": "code",
   "execution_count": 40,
   "metadata": {},
   "outputs": [],
   "source": [
    "class Node(object):\n",
    "    def __init__(self, data):\n",
    "        self.data = data\n",
    "        self.nextNode = None\n",
    "    def remove(self, data, previousNode):\n",
    "        if(self.data == data):\n",
    "            previousNode.nextNode = self.nextNode\n",
    "            del self.data\n",
    "            del self.nextNode\n",
    "        elif self.nextNode is not None: \n",
    "            self.nextNode.remove(data, self)\n",
    "        else: print(\"there is no such data\")"
   ]
  },
  {
   "cell_type": "markdown",
   "metadata": {},
   "source": [
    "By default, the linked list class has only one head, which points nowhere/None because it is alone. The head is pointing towards the first node when it is produced, and the first node is pointing nowhere/to none until the next node is added.\n",
    "\n",
    "To add the element at the start of the list, we create a basic node and connect it to the next node if it exits; otherwise, we simply create a node, then make the head reference to this newly created node, and the element is added at the start of the list. This is done in O(1) time complexity as we are just creating a new node and doing few simplel operations to finish the adding\n",
    "\n",
    "To add the element at the end of the list, we must first traverse the list until we reach the end, and then add the newly created node by having the last node point to the new node. This can be done in O(n) time complexity as we cannot directly go to last element and we have to traverse through all elements\n",
    "\n",
    "While finding the size of the linked list we are creating a count variable and then using it as a counter while traversing the list, this will take the O(n) complexity as here again we are traversing the list. But this complexity can possibly be reduced to O(1) by maintaining the counter variable in innit itself and increasing or decreasing the value everytime the operation is done on the list.\n",
    "\n",
    "Removing an element in list is also a O(n) complexity as we are finding the element throuhg traversing the list and if we do not find the element after traversal in our worst case then we are not removing the element."
   ]
  },
  {
   "cell_type": "code",
   "execution_count": 41,
   "metadata": {},
   "outputs": [],
   "source": [
    "class LinkedList(object):\n",
    "    def __init__(self):\n",
    "        self.head = None\n",
    "        \n",
    "    #O(1)\n",
    "    def insertFirst(self, data):\n",
    "        self.counter += 1\n",
    "        newNode = Node(data)\n",
    "        if self.head is None:\n",
    "            self.head = newNode\n",
    "        else:\n",
    "            newNode.nextNode = self.head\n",
    "            self.head = newNode\n",
    "    \n",
    "    #O(n)\n",
    "    def insertLast(self, data):\n",
    "        newNode = Node(data)\n",
    "        if self.head is None:\n",
    "            self.head = newNode\n",
    "        else:\n",
    "            actualNode = self.head\n",
    "            while actualNode.nextNode is not None:\n",
    "                actualNode = actualNode.nextNode\n",
    "            actualNode.nextNode = newNode\n",
    "    \n",
    "    #O(n)\n",
    "    def sizeOfList(self):\n",
    "        count = 1\n",
    "        actualNode = self.head\n",
    "        while actualNode.nextNode is not None:\n",
    "            count += 1\n",
    "            actualNode = actualNode.nextNode\n",
    "        return count\n",
    "    \n",
    "    #O(n)\n",
    "    def remove(self, data):\n",
    "        if self.head is None:\n",
    "            print(\"there is no data to be removed\")\n",
    "        elif data == self.head.data:\n",
    "            self.head = self.head.nextNode\n",
    "        else:\n",
    "            self.head.nextNode.remove(data, self.head)\n",
    "    \n",
    "    #O(n)\n",
    "    def traverse(self):\n",
    "        actualNode = self.head\n",
    "        pos = 0\n",
    "        while actualNode is not None:\n",
    "            pos += 1\n",
    "            print(f\"the element at {pos} position is {actualNode.data}\" )\n",
    "            actualNode = actualNode.nextNode "
   ]
  },
  {
   "cell_type": "code",
   "execution_count": 42,
   "metadata": {},
   "outputs": [
    {
     "name": "stdout",
     "output_type": "stream",
     "text": [
      "the element at 1 position is 112\n",
      "the element at 2 position is 12\n",
      "the element at 3 position is 122\n",
      "the element at 4 position is 1212\n",
      "the size of the array is 4\n",
      "after removing element 112\n",
      "the element at 1 position is 12\n",
      "the element at 2 position is 122\n",
      "the element at 3 position is 1212\n",
      "the size of the array is 3\n"
     ]
    }
   ],
   "source": [
    "linkedList = LinkedList();\n",
    "linkedList.insertLast(12);\n",
    "linkedList.insertLast(122);\n",
    "linkedList.insertLast(1212);\n",
    "linkedList.insertFirst(112);\n",
    "\n",
    "linkedList.traverse()\n",
    "print(f\"the size of the array is {linkedList.sizeOfList()}\")\n",
    "linkedList.remove(112)\n",
    "print(f\"after removing element 112\")\n",
    "\n",
    "linkedList.traverse()\n",
    "\n",
    "print(f\"the size of the array is {linkedList.sizeOfList()}\")"
   ]
  },
  {
   "cell_type": "markdown",
   "metadata": {},
   "source": [
    "## I. MATHEMATICAL PROBLEMS"
   ]
  },
  {
   "cell_type": "markdown",
   "metadata": {},
   "source": [
    "## Check if number is plaindrome"
   ]
  },
  {
   "cell_type": "code",
   "execution_count": 3,
   "metadata": {},
   "outputs": [],
   "source": [
    "def checkPalindrome(val):\n",
    "    if not val//10: #checking for single digit number\n",
    "        return True\n",
    "    else:\n",
    "        rev = 0 #reverse number initiation\n",
    "        actual = val #storing actual number to compare later\n",
    "        while val: #in each iteration we are removing one digit, running loop till we have numeber\n",
    "            temp = val%10 #getting last digit\n",
    "            rev = rev*10 + temp #making reverse numbers\n",
    "            val = val//10 #removing last digit\n",
    "        return True if actual == rev else False #returning value"
   ]
  },
  {
   "cell_type": "code",
   "execution_count": 4,
   "metadata": {},
   "outputs": [
    {
     "name": "stdout",
     "output_type": "stream",
     "text": [
      "True\n"
     ]
    }
   ],
   "source": [
    "print(checkPalindrome(303))"
   ]
  },
  {
   "cell_type": "markdown",
   "metadata": {},
   "source": [
    "## Factorial of N"
   ]
  },
  {
   "cell_type": "markdown",
   "metadata": {},
   "source": [
    "Factorial is defined as multiplication of all numbers till that number and N>0.\n",
    "\n",
    "For example factorial of 4 is 1 * 2 * 3 * 4 = 24 and factorial of 6 is 1 * 2 * 3 * 4 * 5 * 6 = 720"
   ]
  },
  {
   "cell_type": "code",
   "execution_count": 7,
   "metadata": {},
   "outputs": [],
   "source": [
    "def factorial(num):\n",
    "    val = 1\n",
    "    for i in range(1, num+1):\n",
    "        val = val*i\n",
    "    return val"
   ]
  },
  {
   "cell_type": "code",
   "execution_count": 9,
   "metadata": {},
   "outputs": [
    {
     "data": {
      "text/plain": [
       "24"
      ]
     },
     "execution_count": 9,
     "metadata": {},
     "output_type": "execute_result"
    }
   ],
   "source": [
    "factorial(4)"
   ]
  },
  {
   "cell_type": "code",
   "execution_count": 10,
   "metadata": {},
   "outputs": [
    {
     "data": {
      "text/plain": [
       "720"
      ]
     },
     "execution_count": 10,
     "metadata": {},
     "output_type": "execute_result"
    }
   ],
   "source": [
    "factorial(6)"
   ]
  },
  {
   "cell_type": "markdown",
   "metadata": {},
   "source": [
    "## Factorial using recursion\n",
    "\n",
    "fact(4) calls:\n",
    "\n",
    "    4 * fact(3)\n",
    "    \n",
    "    3 * fact(2)\n",
    "    \n",
    "    2 * fact(1)\n",
    "    \n",
    "    1 * fact(0)\n",
    "    \n",
    "fact(0) returns 1\n",
    "\n",
    "and then the stack return 1 * 2 * 3 * 4 * 5 * 6\n",
    "    \n",
    "    \n",
    "In this case the function take theta(n) space as we will have a point where there will be n+1 function calls in a stack, whereas in above case we had a function with constant space.\n"
   ]
  },
  {
   "cell_type": "code",
   "execution_count": 21,
   "metadata": {},
   "outputs": [],
   "source": [
    "def factorials(num):\n",
    "    if(num < 0): return 0\n",
    "    if(num == 0):\n",
    "        return 1\n",
    "    else: return num*factorials(num - 1)"
   ]
  },
  {
   "cell_type": "code",
   "execution_count": 22,
   "metadata": {},
   "outputs": [
    {
     "data": {
      "text/plain": [
       "120"
      ]
     },
     "execution_count": 22,
     "metadata": {},
     "output_type": "execute_result"
    }
   ],
   "source": [
    "factorials(5)"
   ]
  },
  {
   "cell_type": "markdown",
   "metadata": {},
   "source": [
    "## Trailing Zeros in factorial \n",
    "\n",
    "we are given a number and our task is to find trailing zeros in factorial of that number\n",
    "\n",
    "n = 5\n",
    "\n",
    "factorial = 120\n",
    "\n",
    "op = 1"
   ]
  },
  {
   "cell_type": "code",
   "execution_count": 48,
   "metadata": {},
   "outputs": [],
   "source": [
    "def trailingZeros(num):\n",
    "    fact = 1\n",
    "    count = 0\n",
    "    for i in range(1, num+1):\n",
    "        fact = fact*i\n",
    "    print(fact)\n",
    "    while not fact%10:\n",
    "        count += 1\n",
    "        fact = fact//10\n",
    "    return count"
   ]
  },
  {
   "cell_type": "code",
   "execution_count": 53,
   "metadata": {},
   "outputs": [
    {
     "name": "stdout",
     "output_type": "stream",
     "text": [
      "120\n"
     ]
    },
    {
     "data": {
      "text/plain": [
       "1"
      ]
     },
     "execution_count": 53,
     "metadata": {},
     "output_type": "execute_result"
    }
   ],
   "source": [
    "trailingZeros(5)"
   ]
  },
  {
   "cell_type": "code",
   "execution_count": 51,
   "metadata": {},
   "outputs": [
    {
     "name": "stdout",
     "output_type": "stream",
     "text": [
      "2432902008176640000\n"
     ]
    },
    {
     "data": {
      "text/plain": [
       "4"
      ]
     },
     "execution_count": 51,
     "metadata": {},
     "output_type": "execute_result"
    }
   ],
   "source": [
    "trailingZeros(20)"
   ]
  },
  {
   "cell_type": "markdown",
   "metadata": {},
   "source": [
    "The above solution will run good for all the values. But as the value gets bigger, the factorial number gets even larger. In python we might not face any issue but this logic will give overflow issues in other languages, also its not the most efficient way of handling space complexity\n",
    "\n",
    "we can avoid this by finding a pair of 2 * 5 as this is what will lead to a trailing zero. To make this even simpler we can count number of 5's we have as in most cases number of 5's will be less.\n",
    "\n",
    "1 * 2 * 3 * 4 * 5 * 6 * 7 * 8 * 9 * 10 ......\n",
    "\n",
    "In prime factorization of number we can see that we have 5 repeating for atleast 5 values, that means we can safely assume that we have floor of (n/5) 5's in any number. i.e 5 is repeating for each 5 numbers atleast\n",
    "\n"
   ]
  },
  {
   "cell_type": "code",
   "execution_count": 79,
   "metadata": {},
   "outputs": [],
   "source": [
    "def trailingZeros2(num):\n",
    "    count = 0\n",
    "    i = 5\n",
    "    while i <= num:\n",
    "        count = count + num//i\n",
    "        i *= 5\n",
    "    return count"
   ]
  },
  {
   "cell_type": "code",
   "execution_count": 82,
   "metadata": {},
   "outputs": [
    {
     "data": {
      "text/plain": [
       "62"
      ]
     },
     "execution_count": 82,
     "metadata": {},
     "output_type": "execute_result"
    }
   ],
   "source": [
    "trailingZeros2(251)"
   ]
  },
  {
   "cell_type": "code",
   "execution_count": 83,
   "metadata": {},
   "outputs": [
    {
     "name": "stdout",
     "output_type": "stream",
     "text": [
      "811446921488186040812524452558116486219705773136118947353733549205318760636332913581693296758128078062183055345650547664609463859915056696520548600046891762340808337287505448037728337751512715064266648553413711482053864096073935168807868779389231199415987090547371213614453678579719100407204882954963078533417133568165939310960491560595435373673195910930411701938747154349882416287042721093688617485205308997682124247612021055212748800000000000000000000000000000000000000000000000000000000000000\n"
     ]
    },
    {
     "data": {
      "text/plain": [
       "62"
      ]
     },
     "execution_count": 83,
     "metadata": {},
     "output_type": "execute_result"
    }
   ],
   "source": [
    "trailingZeros(251)"
   ]
  },
  {
   "cell_type": "markdown",
   "metadata": {},
   "source": [
    "## Greatest Common Divisor\n",
    "\n",
    "we need to find a greatest common divisor between two numbers\n",
    "\n",
    "example, a = 4, b = 6\n",
    "\n",
    "o/p - 2\n",
    "\n",
    "two numbers does not have a common divisor except 1 then it can be composit as well as prime. Example 3, 4 and 9, 10\n",
    "\n",
    "relation of GCD with tiling problem.\n",
    "\n",
    "make rectangle of a X b and finding sides of the largest square using which we can tile the whole rectangle."
   ]
  },
  {
   "cell_type": "markdown",
   "metadata": {},
   "source": [
    "## approach\n",
    "\n",
    "start with assuming smallest number is a gcd and common divisor cannot me more than the lowest number\n",
    "\n",
    "start decrementing the this number and see if both numbers are divisible by this gcd\n",
    "\n",
    "in case it matches that is gcd and break the loop.\n",
    "\n",
    "in worst case the value is 1."
   ]
  },
  {
   "cell_type": "code",
   "execution_count": 15,
   "metadata": {},
   "outputs": [],
   "source": [
    "def gcd(a, b):\n",
    "    limit = a if a<b else b\n",
    "    gcd = limit\n",
    "    for i in range(1, limit+1)[::-1]:\n",
    "        if(a%i == 0 and b%i ==0):\n",
    "            gcd = i\n",
    "            break\n",
    "        else: continue\n",
    "    return gcd"
   ]
  },
  {
   "cell_type": "code",
   "execution_count": 16,
   "metadata": {},
   "outputs": [
    {
     "data": {
      "text/plain": [
       "1"
      ]
     },
     "execution_count": 16,
     "metadata": {},
     "output_type": "execute_result"
    }
   ],
   "source": [
    "gcd(7, 13)"
   ]
  },
  {
   "cell_type": "code",
   "execution_count": 17,
   "metadata": {},
   "outputs": [
    {
     "data": {
      "text/plain": [
       "100"
      ]
     },
     "execution_count": 17,
     "metadata": {},
     "output_type": "execute_result"
    }
   ],
   "source": [
    "gcd(100, 200)"
   ]
  },
  {
   "cell_type": "markdown",
   "metadata": {},
   "source": [
    "## euclidean algorithm for GCD\n",
    "\n",
    "basic idea is that is b is smaller than a then gcd(a, b) = gcd(a-b, b)\n",
    "\n",
    "why? lets write a theory. Let g be the gcd of a and b\n",
    "\n",
    "a = gx, b = gy and gcd(x, y) = 1\n",
    "\n",
    "(a-b) = g(x-y)"
   ]
  },
  {
   "cell_type": "markdown",
   "metadata": {},
   "source": [
    "Example go through\n",
    "\n",
    "a = 12, 15\n",
    "\n",
    "12, 3\n",
    "\n",
    "9, 3\n",
    "\n",
    "6, 3\n",
    "\n",
    "3, 3"
   ]
  },
  {
   "cell_type": "code",
   "execution_count": 21,
   "metadata": {},
   "outputs": [],
   "source": [
    "def euclideanGCD(a, b):\n",
    "    while(a!=b):\n",
    "        if a>b:\n",
    "            a = a-b\n",
    "        else: b = b-a\n",
    "        \n",
    "    return a"
   ]
  },
  {
   "cell_type": "code",
   "execution_count": 22,
   "metadata": {},
   "outputs": [
    {
     "data": {
      "text/plain": [
       "100"
      ]
     },
     "execution_count": 22,
     "metadata": {},
     "output_type": "execute_result"
    }
   ],
   "source": [
    "euclideanGCD(100, 200)"
   ]
  },
  {
   "cell_type": "code",
   "execution_count": 23,
   "metadata": {},
   "outputs": [
    {
     "data": {
      "text/plain": [
       "1"
      ]
     },
     "execution_count": 23,
     "metadata": {},
     "output_type": "execute_result"
    }
   ],
   "source": [
    "euclideanGCD(2, 3)"
   ]
  },
  {
   "cell_type": "markdown",
   "metadata": {},
   "source": [
    "## optimised euclidean algorithm"
   ]
  },
  {
   "cell_type": "markdown",
   "metadata": {},
   "source": [
    "## walkthrough\n",
    "\n",
    "12, 15\n",
    "\n",
    "15, 12\n",
    "\n",
    "12, 3\n",
    "\n",
    "3, 0"
   ]
  },
  {
   "cell_type": "code",
   "execution_count": 25,
   "metadata": {},
   "outputs": [],
   "source": [
    "def euclideanGCD(a, b):\n",
    "    if(b == 0):\n",
    "        return a\n",
    "    else: return euclideanGCD(b, a%b)"
   ]
  },
  {
   "cell_type": "code",
   "execution_count": 26,
   "metadata": {},
   "outputs": [
    {
     "data": {
      "text/plain": [
       "100"
      ]
     },
     "execution_count": 26,
     "metadata": {},
     "output_type": "execute_result"
    }
   ],
   "source": [
    "euclideanGCD(100, 200)"
   ]
  },
  {
   "cell_type": "code",
   "execution_count": 28,
   "metadata": {},
   "outputs": [],
   "source": [
    "def euclideanGCD(a, b):\n",
    "    return a if b==0 else euclideanGCD(b, a%b)"
   ]
  },
  {
   "cell_type": "code",
   "execution_count": 29,
   "metadata": {},
   "outputs": [
    {
     "data": {
      "text/plain": [
       "100"
      ]
     },
     "execution_count": 29,
     "metadata": {},
     "output_type": "execute_result"
    }
   ],
   "source": [
    "euclideanGCD(100, 200)"
   ]
  },
  {
   "cell_type": "markdown",
   "metadata": {},
   "source": [
    "## LCM of two numbers\n",
    "\n",
    "Least common multiple, the smallest number divisible by both numbers\n",
    "\n",
    "a, b = 4, 6\n",
    "\n",
    "o/p = 12\n",
    "\n",
    "there are other multiple of 4, 6 such as 12, 24, 36, etc but the least commong factor is 12\n",
    "\n",
    "a, b = 2, 8\n",
    "\n",
    "o/p = 8\n",
    "\n",
    "when one number is divisible by another then LCM is largest number\n",
    "\n",
    "a, b = 2, 3\n",
    "\n",
    "o/p = 6\n",
    "\n",
    "If two numbers are co prime then LCM is multiplication of those two numbers"
   ]
  },
  {
   "cell_type": "code",
   "execution_count": 6,
   "metadata": {},
   "outputs": [],
   "source": [
    "# naive approach\n",
    "def lcm(a, b):\n",
    "    maxlcm = a if a>=b else b\n",
    "    while(True):\n",
    "        if(maxlcm % a == 0 and maxlcm % b ==0):\n",
    "            return maxlcm\n",
    "        else: maxlcm += 1\n",
    "    return maxlcm    "
   ]
  },
  {
   "cell_type": "code",
   "execution_count": 7,
   "metadata": {},
   "outputs": [
    {
     "data": {
      "text/plain": [
       "12"
      ]
     },
     "execution_count": 7,
     "metadata": {},
     "output_type": "execute_result"
    }
   ],
   "source": [
    "lcm(3, 4)"
   ]
  },
  {
   "cell_type": "code",
   "execution_count": 9,
   "metadata": {},
   "outputs": [
    {
     "data": {
      "text/plain": [
       "8"
      ]
     },
     "execution_count": 9,
     "metadata": {},
     "output_type": "execute_result"
    }
   ],
   "source": [
    "lcm(2, 8)"
   ]
  },
  {
   "cell_type": "code",
   "execution_count": 10,
   "metadata": {},
   "outputs": [
    {
     "data": {
      "text/plain": [
       "12"
      ]
     },
     "execution_count": 10,
     "metadata": {},
     "output_type": "execute_result"
    }
   ],
   "source": [
    "lcm(4, 6)"
   ]
  },
  {
   "cell_type": "markdown",
   "metadata": {},
   "source": [
    "## Formula for LCM\n",
    "\n",
    "a * b = gcd(a, b) * lcm(a, b)"
   ]
  },
  {
   "cell_type": "code",
   "execution_count": 12,
   "metadata": {},
   "outputs": [],
   "source": [
    "def lcm2(a, b):\n",
    "    def gcd(a, b):\n",
    "        return a if b==0 else gcd(b, a%b)\n",
    "\n",
    "    return (a*b)//gcd(a, b)"
   ]
  },
  {
   "cell_type": "code",
   "execution_count": 13,
   "metadata": {},
   "outputs": [
    {
     "data": {
      "text/plain": [
       "6"
      ]
     },
     "execution_count": 13,
     "metadata": {},
     "output_type": "execute_result"
    }
   ],
   "source": [
    "lcm2(2, 3)"
   ]
  },
  {
   "cell_type": "code",
   "execution_count": 14,
   "metadata": {},
   "outputs": [
    {
     "data": {
      "text/plain": [
       "12"
      ]
     },
     "execution_count": 14,
     "metadata": {},
     "output_type": "execute_result"
    }
   ],
   "source": [
    "lcm2(4, 6)"
   ]
  },
  {
   "cell_type": "markdown",
   "metadata": {},
   "source": [
    "# Check if number is prime\n",
    "\n",
    "a number is prime if it is divisible by 1 and itself"
   ]
  },
  {
   "cell_type": "code",
   "execution_count": 23,
   "metadata": {},
   "outputs": [
    {
     "ename": "SyntaxError",
     "evalue": "invalid syntax (<ipython-input-23-637bee6f1099>, line 2)",
     "output_type": "error",
     "traceback": [
      "\u001b[1;36m  File \u001b[1;32m\"<ipython-input-23-637bee6f1099>\"\u001b[1;36m, line \u001b[1;32m2\u001b[0m\n\u001b[1;33m    return False if a%i == 0 for i in range(a) else True\u001b[0m\n\u001b[1;37m                             ^\u001b[0m\n\u001b[1;31mSyntaxError\u001b[0m\u001b[1;31m:\u001b[0m invalid syntax\n"
     ]
    }
   ],
   "source": [
    "def isPrime(a):\n",
    "    return False if a%i == 0 for i in range(a) else True"
   ]
  },
  {
   "cell_type": "code",
   "execution_count": null,
   "metadata": {},
   "outputs": [],
   "source": []
  }
 ],
 "metadata": {
  "kernelspec": {
   "display_name": "Python 3",
   "language": "python",
   "name": "python3"
  },
  "language_info": {
   "codemirror_mode": {
    "name": "ipython",
    "version": 3
   },
   "file_extension": ".py",
   "mimetype": "text/x-python",
   "name": "python",
   "nbconvert_exporter": "python",
   "pygments_lexer": "ipython3",
   "version": "3.8.5"
  }
 },
 "nbformat": 4,
 "nbformat_minor": 4
}
