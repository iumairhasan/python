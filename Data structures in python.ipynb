{
 "cells": [
  {
   "cell_type": "markdown",
   "metadata": {},
   "source": [
    "# Singly Linked List\n",
    "\n",
    "Singly Linked List consists of nodes, and each node consists of data and address of next node. In this program let's look into basic algorithm on linked lists, that is adding an element in beggining and in the ending, remove a particular element by value and printing the linked list"
   ]
  },
  {
   "cell_type": "markdown",
   "metadata": {},
   "source": [
    "The class Node below consists of data and nextnode. The value of nextnode is set to None by default since we will only have data in it when we initialize a node, and it will be an independent node.\n",
    "\n",
    "To remove an element in Linked List we need to use the node class, as the address of previous and next nodes are traced by nodes itself. If the removing data is present in the very first node then it is deleted in the O(1) time complexity, other we have to traverse through all the nodes to find the element and delete it"
   ]
  },
  {
   "cell_type": "code",
   "execution_count": 40,
   "metadata": {},
   "outputs": [],
   "source": [
    "class Node(object):\n",
    "    def __init__(self, data):\n",
    "        self.data = data\n",
    "        self.nextNode = None\n",
    "    def remove(self, data, previousNode):\n",
    "        if(self.data == data):\n",
    "            previousNode.nextNode = self.nextNode\n",
    "            del self.data\n",
    "            del self.nextNode\n",
    "        elif self.nextNode is not None: \n",
    "            self.nextNode.remove(data, self)\n",
    "        else: print(\"there is no such data\")"
   ]
  },
  {
   "cell_type": "markdown",
   "metadata": {},
   "source": [
    "By default, the linked list class has only one head, which points nowhere/None because it is alone. The head is pointing towards the first node when it is produced, and the first node is pointing nowhere/to none until the next node is added.\n",
    "\n",
    "To add the element at the start of the list, we create a basic node and connect it to the next node if it exits; otherwise, we simply create a node, then make the head reference to this newly created node, and the element is added at the start of the list. This is done in O(1) time complexity as we are just creating a new node and doing few simplel operations to finish the adding\n",
    "\n",
    "To add the element at the end of the list, we must first traverse the list until we reach the end, and then add the newly created node by having the last node point to the new node. This can be done in O(n) time complexity as we cannot directly go to last element and we have to traverse through all elements\n",
    "\n",
    "While finding the size of the linked list we are creating a count variable and then using it as a counter while traversing the list, this will take the O(n) complexity as here again we are traversing the list. But this complexity can possibly be reduced to O(1) by maintaining the counter variable in innit itself and increasing or decreasing the value everytime the operation is done on the list.\n",
    "\n",
    "Removing an element in list is also a O(n) complexity as we are finding the element throuhg traversing the list and if we do not find the element after traversal in our worst case then we are not removing the element."
   ]
  },
  {
   "cell_type": "code",
   "execution_count": 41,
   "metadata": {},
   "outputs": [],
   "source": [
    "class LinkedList(object):\n",
    "    def __init__(self):\n",
    "        self.head = None\n",
    "        \n",
    "    #O(1)\n",
    "    def insertFirst(self, data):\n",
    "        self.counter += 1\n",
    "        newNode = Node(data)\n",
    "        if self.head is None:\n",
    "            self.head = newNode\n",
    "        else:\n",
    "            newNode.nextNode = self.head\n",
    "            self.head = newNode\n",
    "    \n",
    "    #O(n)\n",
    "    def insertLast(self, data):\n",
    "        newNode = Node(data)\n",
    "        if self.head is None:\n",
    "            self.head = newNode\n",
    "        else:\n",
    "            actualNode = self.head\n",
    "            while actualNode.nextNode is not None:\n",
    "                actualNode = actualNode.nextNode\n",
    "            actualNode.nextNode = newNode\n",
    "    \n",
    "    #O(n)\n",
    "    def sizeOfList(self):\n",
    "        count = 1\n",
    "        actualNode = self.head\n",
    "        while actualNode.nextNode is not None:\n",
    "            count += 1\n",
    "            actualNode = actualNode.nextNode\n",
    "        return count\n",
    "    \n",
    "    #O(n)\n",
    "    def remove(self, data):\n",
    "        if self.head is None:\n",
    "            print(\"there is no data to be removed\")\n",
    "        elif data == self.head.data:\n",
    "            self.head = self.head.nextNode\n",
    "        else:\n",
    "            self.head.nextNode.remove(data, self.head)\n",
    "    \n",
    "    #O(n)\n",
    "    def traverse(self):\n",
    "        actualNode = self.head\n",
    "        pos = 0\n",
    "        while actualNode is not None:\n",
    "            pos += 1\n",
    "            print(f\"the element at {pos} position is {actualNode.data}\" )\n",
    "            actualNode = actualNode.nextNode "
   ]
  },
  {
   "cell_type": "code",
   "execution_count": 42,
   "metadata": {},
   "outputs": [
    {
     "name": "stdout",
     "output_type": "stream",
     "text": [
      "the element at 1 position is 112\n",
      "the element at 2 position is 12\n",
      "the element at 3 position is 122\n",
      "the element at 4 position is 1212\n",
      "the size of the array is 4\n",
      "after removing element 112\n",
      "the element at 1 position is 12\n",
      "the element at 2 position is 122\n",
      "the element at 3 position is 1212\n",
      "the size of the array is 3\n"
     ]
    }
   ],
   "source": [
    "linkedList = LinkedList();\n",
    "linkedList.insertLast(12);\n",
    "linkedList.insertLast(122);\n",
    "linkedList.insertLast(1212);\n",
    "linkedList.insertFirst(112);\n",
    "\n",
    "linkedList.traverse()\n",
    "print(f\"the size of the array is {linkedList.sizeOfList()}\")\n",
    "linkedList.remove(112)\n",
    "print(f\"after removing element 112\")\n",
    "\n",
    "linkedList.traverse()\n",
    "\n",
    "print(f\"the size of the array is {linkedList.sizeOfList()}\")"
   ]
  },
  {
   "cell_type": "markdown",
   "metadata": {},
   "source": [
    "## Check if number is plaindrome"
   ]
  },
  {
   "cell_type": "code",
   "execution_count": 3,
   "metadata": {},
   "outputs": [],
   "source": [
    "def checkPalindrome(val):\n",
    "    if not val//10:\n",
    "        return True\n",
    "    else:\n",
    "        rev = 0 #reverse number initiation\n",
    "        actual = val #storing actual number to compare later\n",
    "        while val: #in each iteration we are removing one digit, running loop till we have numeber\n",
    "            temp = val%10 #getting last digit\n",
    "            rev = rev*10 + temp #making reverse numbers\n",
    "            val = val//10 #removing last digit\n",
    "        return True if actual == rev else False #returning value"
   ]
  },
  {
   "cell_type": "code",
   "execution_count": 4,
   "metadata": {},
   "outputs": [
    {
     "name": "stdout",
     "output_type": "stream",
     "text": [
      "True\n"
     ]
    }
   ],
   "source": [
    "print(checkPalindrome(303))"
   ]
  },
  {
   "cell_type": "markdown",
   "metadata": {},
   "source": [
    "## Factorial of N"
   ]
  },
  {
   "cell_type": "markdown",
   "metadata": {},
   "source": [
    "Factorial is defined as multiplication of all numbers till that number and N>0.\n",
    "\n",
    "For example factorial of 4 is 1 * 2 * 3 * 4 = 24 and factorial of 6 is 1 * 2 * 3 * 4 * 5 * 6 = 720"
   ]
  },
  {
   "cell_type": "code",
   "execution_count": 7,
   "metadata": {},
   "outputs": [],
   "source": [
    "def factorial(num):\n",
    "    val = 1\n",
    "    for i in range(1, num+1):\n",
    "        val = val*i\n",
    "    return val"
   ]
  },
  {
   "cell_type": "code",
   "execution_count": 9,
   "metadata": {},
   "outputs": [
    {
     "data": {
      "text/plain": [
       "24"
      ]
     },
     "execution_count": 9,
     "metadata": {},
     "output_type": "execute_result"
    }
   ],
   "source": [
    "factorial(4)"
   ]
  },
  {
   "cell_type": "code",
   "execution_count": 10,
   "metadata": {},
   "outputs": [
    {
     "data": {
      "text/plain": [
       "720"
      ]
     },
     "execution_count": 10,
     "metadata": {},
     "output_type": "execute_result"
    }
   ],
   "source": [
    "factorial(6)"
   ]
  },
  {
   "cell_type": "markdown",
   "metadata": {},
   "source": [
    "## Factorial using recursion\n",
    "\n",
    "fact(4) calls:\n",
    "\n",
    "    4 * fact(3)\n",
    "    \n",
    "    3 * fact(2)\n",
    "    \n",
    "    2 * fact(1)\n",
    "    \n",
    "    1 * fact(0)\n",
    "    \n",
    "fact(0) returns 1\n",
    "\n",
    "and then the stack return 1 * 2 * 3 * 4 * 5 * 6\n",
    "    \n",
    "    \n",
    "In this case the function take theta(n) space as we will have a point where there will be n+1 function calls in a stack, whereas in above case we had a function with constant space.\n"
   ]
  },
  {
   "cell_type": "code",
   "execution_count": 21,
   "metadata": {},
   "outputs": [],
   "source": [
    "def factorials(num):\n",
    "    if(num < 0): return 0\n",
    "    if(num == 0):\n",
    "        return 1\n",
    "    else: return num*factorials(num - 1)"
   ]
  },
  {
   "cell_type": "code",
   "execution_count": 22,
   "metadata": {},
   "outputs": [
    {
     "data": {
      "text/plain": [
       "120"
      ]
     },
     "execution_count": 22,
     "metadata": {},
     "output_type": "execute_result"
    }
   ],
   "source": [
    "factorials(5)"
   ]
  },
  {
   "cell_type": "markdown",
   "metadata": {},
   "source": [
    "## Trailing Zeros in factorial \n",
    "\n",
    "we are given a number and our task is to find trailing zeros in factorial of that number\n",
    "\n",
    "n = 5\n",
    "\n",
    "factorial = 120\n",
    "\n",
    "op = 1"
   ]
  },
  {
   "cell_type": "code",
   "execution_count": 48,
   "metadata": {},
   "outputs": [],
   "source": [
    "def trailingZeros(num):\n",
    "    fact = 1\n",
    "    count = 0\n",
    "    for i in range(1, num+1):\n",
    "        fact = fact*i\n",
    "    print(fact)\n",
    "    while not fact%10:\n",
    "        count += 1\n",
    "        fact = fact//10\n",
    "    return count"
   ]
  },
  {
   "cell_type": "code",
   "execution_count": 53,
   "metadata": {},
   "outputs": [
    {
     "name": "stdout",
     "output_type": "stream",
     "text": [
      "120\n"
     ]
    },
    {
     "data": {
      "text/plain": [
       "1"
      ]
     },
     "execution_count": 53,
     "metadata": {},
     "output_type": "execute_result"
    }
   ],
   "source": [
    "trailingZeros(5)"
   ]
  },
  {
   "cell_type": "code",
   "execution_count": 51,
   "metadata": {},
   "outputs": [
    {
     "name": "stdout",
     "output_type": "stream",
     "text": [
      "2432902008176640000\n"
     ]
    },
    {
     "data": {
      "text/plain": [
       "4"
      ]
     },
     "execution_count": 51,
     "metadata": {},
     "output_type": "execute_result"
    }
   ],
   "source": [
    "trailingZeros(20)"
   ]
  },
  {
   "cell_type": "markdown",
   "metadata": {},
   "source": [
    "The above solution will run good for all the values. But as the value gets bigger, the factorial number gets even larger. In python we might not face any issue but this logic will give overflow issues in other languages, also its not the most efficient way of handling space complexity\n",
    "\n",
    "we can avoid this by finding a pair of 2 * 5 as this is what will lead to a trailing zero. To make this even simpler we can count number of 5's we have as in most cases number of 5's will be less.\n",
    "\n",
    "1 * 2 * 3 * 4 * 5 * 6 * 7 * 8 * 9 * 10 ......\n",
    "\n",
    "In prime factorization of number we can see that we have 5 repeating for atleast 5 values, that means we can safely assume that we have floor of (n/5) 5's in any number. i.e 5 is repeating for each 5 numbers atleast\n",
    "\n"
   ]
  },
  {
   "cell_type": "code",
   "execution_count": 79,
   "metadata": {},
   "outputs": [],
   "source": [
    "def trailingZeros2(num):\n",
    "    count = 0\n",
    "    i = 5\n",
    "    while i <= num:\n",
    "        count = count + num//i\n",
    "        i *= 5\n",
    "    return count"
   ]
  },
  {
   "cell_type": "code",
   "execution_count": 82,
   "metadata": {},
   "outputs": [
    {
     "data": {
      "text/plain": [
       "62"
      ]
     },
     "execution_count": 82,
     "metadata": {},
     "output_type": "execute_result"
    }
   ],
   "source": [
    "trailingZeros2(251)"
   ]
  },
  {
   "cell_type": "code",
   "execution_count": 83,
   "metadata": {},
   "outputs": [
    {
     "name": "stdout",
     "output_type": "stream",
     "text": [
      "811446921488186040812524452558116486219705773136118947353733549205318760636332913581693296758128078062183055345650547664609463859915056696520548600046891762340808337287505448037728337751512715064266648553413711482053864096073935168807868779389231199415987090547371213614453678579719100407204882954963078533417133568165939310960491560595435373673195910930411701938747154349882416287042721093688617485205308997682124247612021055212748800000000000000000000000000000000000000000000000000000000000000\n"
     ]
    },
    {
     "data": {
      "text/plain": [
       "62"
      ]
     },
     "execution_count": 83,
     "metadata": {},
     "output_type": "execute_result"
    }
   ],
   "source": [
    "trailingZeros(251)"
   ]
  },
  {
   "cell_type": "code",
   "execution_count": null,
   "metadata": {},
   "outputs": [],
   "source": []
  }
 ],
 "metadata": {
  "kernelspec": {
   "display_name": "Python 3",
   "language": "python",
   "name": "python3"
  },
  "language_info": {
   "codemirror_mode": {
    "name": "ipython",
    "version": 3
   },
   "file_extension": ".py",
   "mimetype": "text/x-python",
   "name": "python",
   "nbconvert_exporter": "python",
   "pygments_lexer": "ipython3",
   "version": "3.8.5"
  }
 },
 "nbformat": 4,
 "nbformat_minor": 4
}
