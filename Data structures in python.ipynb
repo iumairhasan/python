{
 "cells": [
  {
   "cell_type": "markdown",
   "metadata": {},
   "source": [
    "# Singly Linked List\n",
    "\n",
    "Singly Linked List consists of nodes, and each node consists of data and address of next node. In this program let's look into basic algorithm on linked lists, that is adding an element in beggining and in the ending, remove a particular element by value and printing the linked list"
   ]
  },
  {
   "cell_type": "markdown",
   "metadata": {},
   "source": [
    "The class Node below consists of data and nextnode. The value of nextnode is set to None by default since we will only have data in it when we initialize a node, and it will be an independent node.\n",
    "\n",
    "To remove an element in Linked List we need to use the node class, as the address of previous and next nodes are traced by nodes itself. If the removing data is present in the very first node then it is deleted in the O(1) time complexity, other we have to traverse through all the nodes to find the element and delete it"
   ]
  },
  {
   "cell_type": "code",
   "execution_count": 40,
   "metadata": {},
   "outputs": [],
   "source": [
    "class Node(object):\n",
    "    def __init__(self, data):\n",
    "        self.data = data\n",
    "        self.nextNode = None\n",
    "    def remove(self, data, previousNode):\n",
    "        if(self.data == data):\n",
    "            previousNode.nextNode = self.nextNode\n",
    "            del self.data\n",
    "            del self.nextNode\n",
    "        elif self.nextNode is not None: \n",
    "            self.nextNode.remove(data, self)\n",
    "        else: print(\"there is no such data\")"
   ]
  },
  {
   "cell_type": "markdown",
   "metadata": {},
   "source": [
    "By default, the linked list class has only one head, which points nowhere/None because it is alone. The head is pointing towards the first node when it is produced, and the first node is pointing nowhere/to none until the next node is added.\n",
    "\n",
    "To add the element at the start of the list, we create a basic node and connect it to the next node if it exits; otherwise, we simply create a node, then make the head reference to this newly created node, and the element is added at the start of the list. This is done in O(1) time complexity as we are just creating a new node and doing few simplel operations to finish the adding\n",
    "\n",
    "To add the element at the end of the list, we must first traverse the list until we reach the end, and then add the newly created node by having the last node point to the new node. This can be done in O(n) time complexity as we cannot directly go to last element and we have to traverse through all elements\n",
    "\n",
    "While finding the size of the linked list we are creating a count variable and then using it as a counter while traversing the list, this will take the O(n) complexity as here again we are traversing the list. But this complexity can possibly be reduced to O(1) by maintaining the counter variable in innit itself and increasing or decreasing the value everytime the operation is done on the list.\n",
    "\n",
    "Removing an element in list is also a O(n) complexity as we are finding the element throuhg traversing the list and if we do not find the element after traversal in our worst case then we are not removing the element."
   ]
  },
  {
   "cell_type": "code",
   "execution_count": 41,
   "metadata": {},
   "outputs": [],
   "source": [
    "class LinkedList(object):\n",
    "    def __init__(self):\n",
    "        self.head = None\n",
    "        \n",
    "    #O(1)\n",
    "    def insertFirst(self, data):\n",
    "        self.counter += 1\n",
    "        newNode = Node(data)\n",
    "        if self.head is None:\n",
    "            self.head = newNode\n",
    "        else:\n",
    "            newNode.nextNode = self.head\n",
    "            self.head = newNode\n",
    "    \n",
    "    #O(n)\n",
    "    def insertLast(self, data):\n",
    "        newNode = Node(data)\n",
    "        if self.head is None:\n",
    "            self.head = newNode\n",
    "        else:\n",
    "            actualNode = self.head\n",
    "            while actualNode.nextNode is not None:\n",
    "                actualNode = actualNode.nextNode\n",
    "            actualNode.nextNode = newNode\n",
    "    \n",
    "    #O(n)\n",
    "    def sizeOfList(self):\n",
    "        count = 1\n",
    "        actualNode = self.head\n",
    "        while actualNode.nextNode is not None:\n",
    "            count += 1\n",
    "            actualNode = actualNode.nextNode\n",
    "        return count\n",
    "    \n",
    "    #O(n)\n",
    "    def remove(self, data):\n",
    "        if self.head is None:\n",
    "            print(\"there is no data to be removed\")\n",
    "        elif data == self.head.data:\n",
    "            self.head = self.head.nextNode\n",
    "        else:\n",
    "            self.head.nextNode.remove(data, self.head)\n",
    "    \n",
    "    #O(n)\n",
    "    def traverse(self):\n",
    "        actualNode = self.head\n",
    "        pos = 0\n",
    "        while actualNode is not None:\n",
    "            pos += 1\n",
    "            print(f\"the element at {pos} position is {actualNode.data}\" )\n",
    "            actualNode = actualNode.nextNode "
   ]
  },
  {
   "cell_type": "code",
   "execution_count": 42,
   "metadata": {},
   "outputs": [
    {
     "name": "stdout",
     "output_type": "stream",
     "text": [
      "the element at 1 position is 112\n",
      "the element at 2 position is 12\n",
      "the element at 3 position is 122\n",
      "the element at 4 position is 1212\n",
      "the size of the array is 4\n",
      "after removing element 112\n",
      "the element at 1 position is 12\n",
      "the element at 2 position is 122\n",
      "the element at 3 position is 1212\n",
      "the size of the array is 3\n"
     ]
    }
   ],
   "source": [
    "linkedList = LinkedList();\n",
    "linkedList.insertLast(12);\n",
    "linkedList.insertLast(122);\n",
    "linkedList.insertLast(1212);\n",
    "linkedList.insertFirst(112);\n",
    "\n",
    "linkedList.traverse()\n",
    "print(f\"the size of the array is {linkedList.sizeOfList()}\")\n",
    "linkedList.remove(112)\n",
    "print(f\"after removing element 112\")\n",
    "\n",
    "linkedList.traverse()\n",
    "\n",
    "print(f\"the size of the array is {linkedList.sizeOfList()}\")"
   ]
  }
 ],
 "metadata": {
  "kernelspec": {
   "display_name": "Python 3",
   "language": "python",
   "name": "python3"
  },
  "language_info": {
   "codemirror_mode": {
    "name": "ipython",
    "version": 3
   },
   "file_extension": ".py",
   "mimetype": "text/x-python",
   "name": "python",
   "nbconvert_exporter": "python",
   "pygments_lexer": "ipython3",
   "version": "3.8.5"
  }
 },
 "nbformat": 4,
 "nbformat_minor": 4
}
